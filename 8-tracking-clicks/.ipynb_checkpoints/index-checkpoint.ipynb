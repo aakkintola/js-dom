{
 "cells": [
  {
   "cell_type": "markdown",
   "id": "8cb5f821-eb2c-4f37-92c5-bc8dde64a499",
   "metadata": {},
   "source": [
    "# Tracking Clicks"
   ]
  },
  {
   "cell_type": "markdown",
   "id": "93752302-e252-42cd-b76a-90d7304eeb58",
   "metadata": {},
   "source": [
    "### Introduction"
   ]
  },
  {
   "cell_type": "markdown",
   "id": "4d50726f-c806-4f7b-bd0b-74884abeb129",
   "metadata": {},
   "source": [
    "In this lesson, we'll see how we can track various click events."
   ]
  },
  {
   "cell_type": "markdown",
   "id": "9e0c2f22-740b-41ac-8b34-62dd61fac875",
   "metadata": {},
   "source": [
    "### Getting started"
   ]
  },
  {
   "cell_type": "markdown",
   "id": "1320c705-bfc3-4312-90bb-629bbe2be551",
   "metadata": {},
   "source": [
    "To demonstrate how to track clicks, we should quickly deploy a new website.\n",
    "\n",
    "We can use Github pages, to do so.  And instructions for using github pages can be [found here](https://pages.github.com/).\n",
    "\n",
    "As can be see in the documentation, the key steps are to:\n",
    "* Create a github repository that is the same name as the your github username\n",
    "* Add html into an `index.html` file"
   ]
  },
  {
   "cell_type": "markdown",
   "id": "42714c8a-16eb-45b4-a033-bb7d1c8a4412",
   "metadata": {},
   "source": [
    "### Getting started"
   ]
  },
  {
   "cell_type": "markdown",
   "id": "9baa5a46-2ef0-4600-a3ff-58c91267733f",
   "metadata": {},
   "source": [
    "Let's begin by creating a github repository that follows the pattern of `profile-name.github.io`."
   ]
  },
  {
   "cell_type": "markdown",
   "id": "234d7c75-5f48-4182-a17e-bc1a9f237e16",
   "metadata": {},
   "source": [
    "<img src=\"./new-repo.png\" width=\"70%\">"
   ]
  },
  {
   "cell_type": "markdown",
   "id": "d1f170aa-8aca-435a-aba9-a96ed5f942d8",
   "metadata": {},
   "source": [
    "From there, we can clone the repository down into our local folder."
   ]
  },
  {
   "cell_type": "markdown",
   "id": "5aea84ef-b763-4e2d-b175-4c7e1b1e5182",
   "metadata": {},
   "source": [
    "<img src=\"./existing-folder.png\">"
   ]
  },
  {
   "cell_type": "markdown",
   "id": "7433d4a3-a0ba-45df-abd9-ff18e4aebc09",
   "metadata": {},
   "source": [
    "Once the repository is created and on your local computer, the next step is to create an `index.html` page.  Here we have already done this for you.\n",
    "\n",
    "If you look at the `src` folder, you can find an `index.html` file, as well as the corresponding Javascript and CSS files."
   ]
  },
  {
   "cell_type": "markdown",
   "id": "0024cc54-0d09-4da7-95a0-d592b595aaf0",
   "metadata": {},
   "source": [
    "<img src=\"./src.png\">"
   ]
  },
  {
   "cell_type": "markdown",
   "id": "34649146-a110-49f8-b60c-b3b8a38e5473",
   "metadata": {},
   "source": [
    "If you type `open .` then you can view these files in the finder.  At this point, you can drag and drop these folders (or copy and paste them) into your `username.github.io` folder."
   ]
  },
  {
   "cell_type": "markdown",
   "id": "f952fb34-58d0-4655-b875-07e348b4330a",
   "metadata": {},
   "source": [
    "Next if you add a new commit and push your changes (and wait a couple of minutes), you should eventually see that the code has been deployed your website at:\n",
    "\n",
    "`username.github.io`"
   ]
  },
  {
   "cell_type": "markdown",
   "id": "cbba9e96-06d9-4c8e-9570-d887f60f2ce6",
   "metadata": {},
   "source": [
    "<img src=\"./jigsaw-student.png\" width=\"80%\">"
   ]
  },
  {
   "cell_type": "markdown",
   "id": "878223f7-62e1-41ad-bd6d-10ced446e11a",
   "metadata": {},
   "source": [
    "Your code repository should look something like the following:"
   ]
  },
  {
   "cell_type": "markdown",
   "id": "6f47d426-5c32-460b-9f4f-4b983db88514",
   "metadata": {},
   "source": [
    "<img src=\"./github-repo.png\" width=\"40%\">"
   ]
  },
  {
   "cell_type": "markdown",
   "id": "a6ddd9d0-dec5-437f-858d-b8969a15afcc",
   "metadata": {},
   "source": [
    "### Signing up for mixpanel"
   ]
  },
  {
   "cell_type": "markdown",
   "id": "7c13bedf-36f3-4cab-8a79-060d407f21a2",
   "metadata": {},
   "source": [
    "Next, we can sign up for a free mixpanel account.  Go to mixpanel.com, and the click on `Sign Up`."
   ]
  },
  {
   "cell_type": "markdown",
   "id": "25776b54-fb7e-4194-8971-a3f6f78139a8",
   "metadata": {},
   "source": [
    "<img src=\"./mix-signup.png\" width=\"80%\">"
   ]
  },
  {
   "cell_type": "markdown",
   "id": "d5bad251-b997-4308-93d1-41f3e0a5b692",
   "metadata": {},
   "source": [
    "Once logged in, click on the dropdown in the top right, and then click on the gray `Create Project` link at the bottom."
   ]
  },
  {
   "cell_type": "markdown",
   "id": "90208f89-bf4d-46c1-a33a-8f46fd5d6fa0",
   "metadata": {},
   "source": [
    "<img src=\"./create-project.png\" width=\"40%\">"
   ]
  },
  {
   "cell_type": "markdown",
   "id": "98aeedf7-3355-4fbe-85a3-28dcd08d620b",
   "metadata": {},
   "source": [
    "We can name the project `Github Page` and then click `Create`."
   ]
  },
  {
   "cell_type": "markdown",
   "id": "8065bde3-972e-4e4f-88bc-4366d23b017c",
   "metadata": {},
   "source": [
    "<img src=\"./github-page.png\" width=\"80%\">"
   ]
  },
  {
   "cell_type": "markdown",
   "id": "901d60fb-4683-42d7-ae35-fc416e93be5e",
   "metadata": {},
   "source": [
    "From here, we can click on `Implement Mixpanel` at the top right of the page in orange."
   ]
  },
  {
   "cell_type": "markdown",
   "id": "1e61e244-37d9-4f4c-ac83-c8acae23e723",
   "metadata": {},
   "source": [
    "<img src=\"./implement-mix.png\">"
   ]
  },
  {
   "cell_type": "markdown",
   "id": "f8f819aa-c6df-4220-8d5b-ca15ba6f7379",
   "metadata": {},
   "source": [
    "We should be taken to a page of quickstarts -- click on the first one which is for Javascript."
   ]
  },
  {
   "cell_type": "markdown",
   "id": "18f15abe-4120-4627-b609-3927817cf2c9",
   "metadata": {},
   "source": [
    "<img src=\"./mix-panel.png\" width=\"70%\">"
   ]
  },
  {
   "cell_type": "markdown",
   "id": "84f4b5bc-ec7e-42be-9990-2f883481d65f",
   "metadata": {},
   "source": [
    "Scroll down to installation option number 2."
   ]
  },
  {
   "cell_type": "markdown",
   "id": "35f2b1b0-31b1-4387-8096-fd523c79079f",
   "metadata": {},
   "source": [
    "<img src=\"./installation-opt.png\" width=\"80%\">"
   ]
  },
  {
   "cell_type": "markdown",
   "id": "1e2813f1-70c6-4816-b510-858527e3a03c",
   "metadata": {},
   "source": [
    "Now there are two components to this first piece of code.  The first few lines consist of a link to the Mixpanel library -- if we copy those lines into our `index.html` page, Mixpanel will have the necessary library on our page.\n",
    "\n",
    "Further along, you should see a line of `mixpanel.init` followed by your project token.  If you do not have your project token listed there, you can return to your logged in mixpanel account, and then click on the settings gear, followed by the `Github Pages` project.  When you scroll down, you'll see the project token. "
   ]
  },
  {
   "cell_type": "markdown",
   "id": "54643f3a-88ab-402c-81a9-f2236a5cced1",
   "metadata": {},
   "source": [
    "<img src=\"./proj-token.png\" width=\"40%\">"
   ]
  },
  {
   "cell_type": "markdown",
   "id": "b3297833-7513-47a9-8525-8553d7f216de",
   "metadata": {},
   "source": [
    "Then, as indicated by the instructions under installation step 2, copy and paste the HTML into the head of `index.html`.\n",
    "\n",
    "Then make a commit and push your changes to github."
   ]
  },
  {
   "cell_type": "markdown",
   "id": "f467a8ef-fdeb-4d67-9a46-a8ca9a3e5667",
   "metadata": {},
   "source": [
    "You can check that the change has been deployed to your site by visiting: `username.github.io` and then inspecting the `head` tag.  You should eventually see the newly deployed code."
   ]
  },
  {
   "cell_type": "markdown",
   "id": "2328fd80-a0fb-4be6-b384-ff73533b737b",
   "metadata": {},
   "source": [
    "<img src=\"./mixpanel-loaded.png\" width=\"80%\">"
   ]
  },
  {
   "cell_type": "markdown",
   "id": "243b260d-c70e-426e-8a39-8e5a2218dcd3",
   "metadata": {},
   "source": [
    "From there, you can visit your mixpanel project."
   ]
  },
  {
   "cell_type": "markdown",
   "id": "bb9eab2b-c571-424d-857e-90013b47a4ee",
   "metadata": {},
   "source": [
    "And click on the `events` link.  You should begin to see some signup events tracked:"
   ]
  },
  {
   "cell_type": "markdown",
   "id": "3604a0ce-3b04-46e1-a052-4d628513b27c",
   "metadata": {},
   "source": [
    "<img src=\"./events-link.png\" width=\"60%\">"
   ]
  },
  {
   "cell_type": "markdown",
   "id": "10a1f3e3-0a64-485d-a65f-33b90e5bc0a7",
   "metadata": {},
   "source": [
    "Why is the signup event tracked?  Well, this is what you asked mixpanel to track when the page was loaded, when you added the line:\n",
    "\n",
    "```js\n",
    "mixpanel.track('Sign up');\n",
    "```"
   ]
  },
  {
   "cell_type": "markdown",
   "id": "7d376430-df9e-4a81-9f25-95d08b9fec2c",
   "metadata": {},
   "source": [
    "Of course, at this point, you can attach event listeners to certain HTML elements, and call the `mixpanel.track` when the user clicks on these various elements."
   ]
  },
  {
   "cell_type": "markdown",
   "id": "b263e556-946a-4cba-96df-6f38a4c3b475",
   "metadata": {},
   "source": [
    "### Summary"
   ]
  },
  {
   "cell_type": "markdown",
   "id": "a227dcd8-7dd6-4021-8aa0-8b6c39f3301d",
   "metadata": {},
   "source": [
    "In this lesson, we saw how to begin sending events from a deployed webpage to mixpanel."
   ]
  }
 ],
 "metadata": {
  "kernelspec": {
   "display_name": "Python 3 (ipykernel)",
   "language": "python",
   "name": "python3"
  },
  "language_info": {
   "codemirror_mode": {
    "name": "ipython",
    "version": 3
   },
   "file_extension": ".py",
   "mimetype": "text/x-python",
   "name": "python",
   "nbconvert_exporter": "python",
   "pygments_lexer": "ipython3",
   "version": "3.9.7"
  }
 },
 "nbformat": 4,
 "nbformat_minor": 5
}
