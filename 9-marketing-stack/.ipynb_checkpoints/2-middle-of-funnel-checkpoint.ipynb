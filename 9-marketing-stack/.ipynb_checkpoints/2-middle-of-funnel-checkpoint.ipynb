{
 "cells": [
  {
   "cell_type": "markdown",
   "id": "51b6ca22-b365-49e4-a87a-648469cbb6a0",
   "metadata": {},
   "source": [
    "# Middle and Bottom of the Funnel"
   ]
  },
  {
   "cell_type": "markdown",
   "id": "eacd2db6-5493-4cdf-ad45-0d23801078e7",
   "metadata": {},
   "source": [
    "### Introduction"
   ]
  },
  {
   "cell_type": "markdown",
   "id": "7e553e37-0a3e-434c-95b2-b2cf85e8e211",
   "metadata": {},
   "source": [
    "In the last lesson, we learned about top of the funnel marketing where the main task is to generate awareness of the product.  In this lesson, we'll learn about the middle and bottom of the funnel, where potential users learn more about the product, and ultimately convert to paying customers. "
   ]
  },
  {
   "cell_type": "markdown",
   "id": "84a230d6-e5a4-44b3-85b3-da2bc0ebc298",
   "metadata": {},
   "source": [
    "### Middle of the Funnel"
   ]
  },
  {
   "cell_type": "markdown",
   "id": "bf79c940-60a1-47f8-afce-7b3dabcf3a4a",
   "metadata": {},
   "source": [
    "The middle of the funnel is where *lead nurturing* occurs.  And this is where once users arrive on the website, we then try to move them towards a purchase.\n",
    "\n",
    "There are a couple of ways to optimize for this:\n",
    "\n",
    "1. Website Marketing \n",
    "2. Product Trial \n",
    "3. Email Marketing \n",
    "4. Retargeting Campaigns\n",
    "\n",
    "* Website Marketing and Product Trials\n",
    "In website marketing and trial of the product, customers are directly interacting with the website.  In both cases, we may want to identify what items are popular, and when users begin to churn -- by churn we mean disengage from the product.  We can use product analytics tools like Mixpanel, or Amplitude, to identify what links users click on, the sequence of clicks, and also to help us to create dashboards displaying user engagement, and churn.\n",
    "\n",
    "Now tools like Mixpanel and Amplitude will identify users through identifiers in their browser - and this is helpful to identify if a user is returns over multiple sessions.\n",
    "\n",
    "* Email Marketing \n",
    "\n",
    "However, it's even more helpful if we get the email address of a user.  This can allow to engage in email marketing, and use tools like *Marketo* or *ActiveCampaign* or *Customer.io* to follow up with users and send marketing emails.  \n",
    "\n",
    "* Remarketing/Retargeting\n",
    "\n",
    "Finally, it may often be the case that interested users will visit a website, and then simply forget to return.  To remind users of our product, we can use [Facebook pixels](https://www.facebook.com/business/help/144576119557578?id=1913105122334058), or [Google Pixels](https://ads.google.com/intl/en_uk/home/resources/retargeting-ads/).  Using these tools, Google/Facebook will identify users who visited our website, and then send ads to these users over the following days in hopes that the user re-engages."
   ]
  },
  {
   "cell_type": "markdown",
   "id": "409e400e-b400-4f50-bd6d-c7f979ecb795",
   "metadata": {},
   "source": [
    "### Bottom of the Funnel"
   ]
  },
  {
   "cell_type": "code",
   "execution_count": null,
   "id": "c81d0264-c8db-4664-81d2-8f93c95c2a2e",
   "metadata": {},
   "outputs": [],
   "source": []
  },
  {
   "cell_type": "markdown",
   "id": "9c9af7bf-e147-45c8-83d2-a1525443434b",
   "metadata": {},
   "source": [
    "### Active Customers"
   ]
  },
  {
   "cell_type": "code",
   "execution_count": null,
   "id": "5bda51c2-e8e2-4ba6-ac64-1740dc5ae175",
   "metadata": {},
   "outputs": [],
   "source": []
  },
  {
   "cell_type": "markdown",
   "id": "290a3d3b-efdb-4925-bee9-4c7342755bbb",
   "metadata": {},
   "source": [
    "### Resources\n",
    "[Segment Tracking Plan](https://segment.com/academy/collecting-data/how-to-create-a-tracking-plan/)"
   ]
  },
  {
   "cell_type": "code",
   "execution_count": null,
   "id": "168b9ffe-f67d-4d81-9d7d-4c92d250519c",
   "metadata": {},
   "outputs": [],
   "source": []
  }
 ],
 "metadata": {
  "kernelspec": {
   "display_name": "Python 3 (ipykernel)",
   "language": "python",
   "name": "python3"
  },
  "language_info": {
   "codemirror_mode": {
    "name": "ipython",
    "version": 3
   },
   "file_extension": ".py",
   "mimetype": "text/x-python",
   "name": "python",
   "nbconvert_exporter": "python",
   "pygments_lexer": "ipython3",
   "version": "3.9.7"
  }
 },
 "nbformat": 4,
 "nbformat_minor": 5
}
