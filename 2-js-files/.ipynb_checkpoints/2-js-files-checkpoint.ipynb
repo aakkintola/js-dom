{
 "cells": [
  {
   "cell_type": "markdown",
   "id": "85ac4a18-3e54-4a3f-965c-df169718b7b5",
   "metadata": {},
   "source": [
    "# JS Files and Debugging JS"
   ]
  },
  {
   "cell_type": "markdown",
   "id": "d203f8c4-e02a-45fe-b394-98bdcddbe15c",
   "metadata": {},
   "source": [
    "### Introduction"
   ]
  },
  {
   "cell_type": "markdown",
   "id": "6cfdf332-b607-4a97-9e47-4fff3ab4940d",
   "metadata": {},
   "source": [
    "So far we have worked with Javascript directly from the Google development console, but any work we do there is only temporary.  In this lesson, we'll see how we can begin working with a Javascript file."
   ]
  },
  {
   "cell_type": "markdown",
   "id": "6fb799ac-e52e-4b88-8030-fe0d43966853",
   "metadata": {},
   "source": [
    "### Getting Setup"
   ]
  },
  {
   "cell_type": "markdown",
   "id": "0df598ab-6fd9-427f-a61f-af01e26c52e4",
   "metadata": {},
   "source": [
    "To begin using HTML with some Javascript that we will write, notice that in our blog folder, we already have a folder for javascript code, called `js`.\n",
    "\n",
    "In the js folder create a new file called `index.js` and in the file place `console.log('hello world')`."
   ]
  },
  {
   "cell_type": "markdown",
   "id": "995545d5-a857-45fd-8eec-027098e9cb53",
   "metadata": {},
   "source": [
    "> The `console.log()` function is like a print statement, and will display content in the development console, but will not be visible to the general user."
   ]
  },
  {
   "cell_type": "markdown",
   "id": "56e7e5dc-9113-4e4c-96d1-d3ff866a96c0",
   "metadata": {},
   "source": [
    "So now that we have created javascript file, and added our first line of code inside of the file, the next step is to connect our javascript code to our html page.\n",
    "\n",
    "Next, let's open up the `home-page.html` file to connect our code in there.  At the top of the file, we'll see a `head` tag, which contains some content like the following:"
   ]
  },
  {
   "cell_type": "markdown",
   "id": "d7574e42-6ee5-4067-b438-62bf3dba6f15",
   "metadata": {},
   "source": [
    "```html\n",
    "<head>\n",
    "  <meta charset=\"utf-8\">\n",
    "  <meta name=\"viewport\" content=\"width=device-width, initial-scale=1, shrink-to-fit=no\">\n",
    "  <meta http-equiv=\"x-ua-compatible\" content=\"ie=edge\">\n",
    "  <title>Material Design Bootstrap</title>\n",
    "  <!-- Font Awesome -->\n",
    "  <link rel=\"stylesheet\" href=\"https://use.fontawesome.com/releases/v5.11.2/css/all.css\">\n",
    "  <!-- Bootstrap core CSS -->\n",
    "  <link href=\"css/bootstrap.min.css\" rel=\"stylesheet\">\n",
    "  <!-- Material Design Bootstrap -->\n",
    "  <link href=\"css/mdb.min.css\" rel=\"stylesheet\">\n",
    "  <!-- Your custom styles (optional) -->\n",
    "  <link href=\"css/style.min.css\" rel=\"stylesheet\">\n",
    "</head>\n",
    "```"
   ]
  },
  {
   "cell_type": "markdown",
   "id": "7433f03a-8e07-42d9-8fec-34d7a513f336",
   "metadata": {},
   "source": [
    "The `head` tag is there to hold content that **will not** be directly displayed on the body of the page.  \n",
    "\n",
    "For example, notice that we do not see any `a` tags or `h1` tags in there.  Instead, we can see that there are a number of `link` tags, each of which loads up a corresponding `css` file.  Now, we would like to do something similar but for Javascript.\n",
    "\n",
    "We can do so by adding the following inside of our `head` tag.\n",
    "\n",
    "```html\n",
    "<script src=\"./js/index.js\"></script>\n",
    "```"
   ]
  },
  {
   "cell_type": "markdown",
   "id": "ecdd89fd-29da-4e28-bbc0-9501b34f1ec9",
   "metadata": {},
   "source": [
    "Add the above line to the HTML and then open up the `home-page.html` page, or refresh the page.  Upon doing so, we should see our content printed out."
   ]
  },
  {
   "cell_type": "markdown",
   "id": "982357ee-3bad-48cc-b788-6ca957a480f5",
   "metadata": {},
   "source": [
    "<img src=\"./js-console-1.png\" width=\"100%\">"
   ]
  },
  {
   "cell_type": "markdown",
   "id": "1867fc80-5e15-4434-8ed4-46b989a0aa44",
   "metadata": {},
   "source": [
    "### Adding our content"
   ]
  },
  {
   "cell_type": "markdown",
   "id": "47615fc1-7fd3-4d3e-b4aa-5532740dd123",
   "metadata": {},
   "source": [
    "Let's update our `index.js` file so that it looks like the following.  \n",
    "\n",
    "> Loading it up, will result in an error, but that's ok."
   ]
  },
  {
   "cell_type": "markdown",
   "id": "42f943fe-2099-4f32-b5b4-cf4a0ddae36c",
   "metadata": {},
   "source": [
    "```javascript\n",
    "// index.js\n",
    "console.log('hello world')\n",
    "\n",
    "let cards = document.querySelectorAll('.card')\n",
    "\n",
    "let first_card = cards[0]\n",
    "\n",
    "first_card.classList.add('d-none')\n",
    "```"
   ]
  },
  {
   "cell_type": "markdown",
   "id": "da414dc9-a560-4548-9f9e-a5b07e96a322",
   "metadata": {},
   "source": [
    "So as we can see, the code above selects all of the cards on the page, and then adds a class of `d-none` to hide the first card."
   ]
  },
  {
   "cell_type": "markdown",
   "id": "a3f95e9c-e80d-4060-b5fd-fb1bc6315229",
   "metadata": {},
   "source": [
    "If we add this to our `index.js` file, and then refresh our homepage, we will see the following error in the console:"
   ]
  },
  {
   "cell_type": "markdown",
   "id": "1d7f4df5-4b9e-4e2c-b9dd-11a11ec742f0",
   "metadata": {},
   "source": [
    "<img src=\"./error-message.png\" width=\"90%\">"
   ]
  },
  {
   "cell_type": "markdown",
   "id": "97ae1cc8-d744-4b2b-9b13-29f95a9e57fc",
   "metadata": {},
   "source": [
    "So we can see that where `classList` is called on an undefined variable.  And that this error is occurring on line 9 of our `index.js`.  \n",
    "\n",
    "\n",
    "The text `index.js:9` is a link, and if we click on that link, we will be taken directly to the error."
   ]
  },
  {
   "cell_type": "markdown",
   "id": "9c76571e-ac31-4048-b939-088f3b4a8b34",
   "metadata": {},
   "source": [
    "<img src=\"./index-error.png\" width=\"60%\">"
   ]
  },
  {
   "cell_type": "markdown",
   "id": "93646d8e-52a1-4cf5-bdd5-c22938b10b1f",
   "metadata": {},
   "source": [
    "So taken with the our error message `cannot read properties of undefined classList`, it looks like `first_card` variable is undefined.\n",
    "\n",
    "Let's dig deeper to find why in the next section."
   ]
  },
  {
   "cell_type": "markdown",
   "id": "56ec5624-8d20-42ac-a9a0-b3338d58b892",
   "metadata": {},
   "source": [
    "### Working with the Debugger"
   ]
  },
  {
   "cell_type": "markdown",
   "id": "4bc4c39a-1d36-43b4-aa04-667f059e7986",
   "metadata": {},
   "source": [
    "To see what's occurring, let's add a `debugger` above the line that calls `classList`.  At this point, our `index.js` file looks like the following:"
   ]
  },
  {
   "cell_type": "markdown",
   "id": "e7f0b407-31fe-4675-b404-f2ed8de0586e",
   "metadata": {},
   "source": [
    "```javascript\n",
    "// index.js\n",
    "console.log('hello world')\n",
    "\n",
    "let cards = document.querySelectorAll('.card')\n",
    "\n",
    "let first_card = cards[0]\n",
    "\n",
    "debugger;\n",
    "\n",
    "first_card.classList.add('d-none')\n",
    "```"
   ]
  },
  {
   "cell_type": "markdown",
   "id": "928702fa-9607-47aa-a056-890935880154",
   "metadata": {},
   "source": [
    "Refresh the homepage with the console still open."
   ]
  },
  {
   "cell_type": "markdown",
   "id": "bc4c3a9d-4194-4023-b513-ff7d5c3d8603",
   "metadata": {},
   "source": [
    "> Then click on the `sources` tab.  This will show us the javascript file that is loaded into our html, with the line of code that is paused on highlighted."
   ]
  },
  {
   "cell_type": "markdown",
   "id": "8ee5a9ad-67af-4543-800e-7270961b29d0",
   "metadata": {},
   "source": [
    "<img src=\"./sources.png\" width=\"90%\">"
   ]
  },
  {
   "cell_type": "markdown",
   "id": "31802d47-4d55-42b9-9d83-8844f27367c2",
   "metadata": {},
   "source": [
    "Our Javascript is currently resting on the `debugger` line of code.  To debug our code, we would like to look at some of the variables that have already been defined.  \n",
    "\n",
    "We can open up the console while still looking at the script file by press the `esc` key.  You should see the console show up at the bottom of the screen.\n",
    "\n",
    "From there, type in the variable name `first_card` to see what it is.  Typing it into the console, we see that `first_card` is undefined.\n",
    "\n",
    "So let's look at the variable it depends on.  Type `cards` into the console, and we can see it is an empty list.\n",
    "\n",
    "That seems to be an issue.  So let's look deeper at the code that from at that varible, by running the line `document.querySelectorAll('.card')`.  Once again, we can see that it does not select any elements.\n",
    "\n",
    "Do you see the issue?"
   ]
  },
  {
   "cell_type": "markdown",
   "id": "214d7523-e9e0-46bb-aaa7-5080b060377f",
   "metadata": {},
   "source": [
    "> <img src=\"./pre-html.png\" width=\"70%\">"
   ]
  },
  {
   "cell_type": "markdown",
   "id": "468be8da-539b-44f6-9c75-e1fa100c28b2",
   "metadata": {},
   "source": [
    "The problem is that Javascript is trying to find all of the html that has a class of `.card`, but the HTML is not yet loaded on the page.  \n",
    "\n",
    "So we can fix this by moving the script tag to the very bottom of our HTML.  This way the javascript file will not be run until after the HTML has been displayed on the page."
   ]
  },
  {
   "cell_type": "markdown",
   "id": "bd41e45c-ad7f-483e-afc9-726b6d99c27c",
   "metadata": {},
   "source": [
    "In fact if we scroll to the bottom, that's where we can find the rest of our `js` scripts.  Let's add the `index.js` file to the bottom of the list."
   ]
  },
  {
   "cell_type": "markdown",
   "id": "5d202a05-c387-4393-987f-a548677fa5df",
   "metadata": {},
   "source": [
    "<img src=\"./updated-script.png\" width=\"80%\">"
   ]
  },
  {
   "cell_type": "markdown",
   "id": "04a90c21-0873-44f2-a97c-949c78def17b",
   "metadata": {},
   "source": [
    "Leave the debugger in the `index.js` file, and then refresh the page."
   ]
  },
  {
   "cell_type": "markdown",
   "id": "324309cb-b274-47bb-b7ba-8c4c8ea24627",
   "metadata": {},
   "source": [
    "### Working with the debugger"
   ]
  },
  {
   "cell_type": "markdown",
   "id": "2c207133-e914-44f5-bdc4-2fb350fd5ade",
   "metadata": {},
   "source": [
    "This time if we refresh our `home-page.html` things look a bit different for us."
   ]
  },
  {
   "cell_type": "markdown",
   "id": "cd4c8757-5400-406b-a6dc-8c5c2ab61090",
   "metadata": {},
   "source": [
    "<img src=\"./refreshed.png\" width=\"90%\">"
   ]
  },
  {
   "cell_type": "markdown",
   "id": "89749615-d0e7-4c45-9345-fd38a8217d24",
   "metadata": {},
   "source": [
    "We can see that while the images are not yet on the page, the html has been rendered.  And if we type in the variable for cards, we'll see that we did indeed find them with our css selector."
   ]
  },
  {
   "cell_type": "markdown",
   "id": "3e56fee2-40fa-45ea-b119-29af47973f6e",
   "metadata": {},
   "source": [
    "<img src=\"./first-card.png\" width=\"60%\">"
   ]
  },
  {
   "cell_type": "markdown",
   "id": "b0affaf2-10a3-471e-9a7b-dc5ba1f850a2",
   "metadata": {},
   "source": [
    "From there, if you would like to move one line forward in the code, click the button to the right of the play sign, and you can see the code move one step forward."
   ]
  },
  {
   "cell_type": "markdown",
   "id": "292bdb1f-a1ec-4ec7-b341-3c9e679dbef3",
   "metadata": {},
   "source": [
    "<img src=\"./step-forward.png\" width=\"70%\">"
   ]
  },
  {
   "cell_type": "markdown",
   "id": "9a7c4451-bcbc-4f49-b41e-39cfa30ec74b",
   "metadata": {},
   "source": [
    "And if you would like to move over the debugger entirely, simply click the play sign."
   ]
  },
  {
   "cell_type": "markdown",
   "id": "ae6db377-7593-42f4-a426-01ba0e598900",
   "metadata": {},
   "source": [
    "### Summary"
   ]
  },
  {
   "cell_type": "markdown",
   "id": "9cccdf8c-1a57-4aed-8f3f-0f291a74d172",
   "metadata": {},
   "source": [
    "In this lesson we saw how to work with javascript files and connect them to our html file through the `<script src=\"./index.js\" > </script>`.  From there, we saw how we can debug our Javascript code by opening up the Chrome console, reading the error message."
   ]
  },
  {
   "cell_type": "markdown",
   "id": "da90b9c6-9831-4f4a-9557-cb40dfe7e643",
   "metadata": {},
   "source": [
    "<img src=\"./error-message.png\" width=\"90%\">"
   ]
  },
  {
   "cell_type": "markdown",
   "id": "b37a8b73-0f3d-4aef-bab3-62021ac830c3",
   "metadata": {},
   "source": [
    "From there, we can even click on the line number, which takes us to the corresponding line in the code."
   ]
  },
  {
   "cell_type": "markdown",
   "id": "3fb689d1-03cb-46dc-b3e0-655fb7d1e838",
   "metadata": {},
   "source": [
    "By using a debugger we saw that our Javascript code was being run before the HTMl was loaded -- and we fixed this by moving our `<script>` tag to the end of our HTML file.  \n",
    "\n",
    "We also saw how to use the debugger, and move to the next line by pressing the `next` button, or simply continue by pressing play."
   ]
  }
 ],
 "metadata": {
  "kernelspec": {
   "display_name": "Python 3 (ipykernel)",
   "language": "python",
   "name": "python3"
  },
  "language_info": {
   "codemirror_mode": {
    "name": "ipython",
    "version": 3
   },
   "file_extension": ".py",
   "mimetype": "text/x-python",
   "name": "python",
   "nbconvert_exporter": "python",
   "pygments_lexer": "ipython3",
   "version": "3.9.7"
  }
 },
 "nbformat": 4,
 "nbformat_minor": 5
}
