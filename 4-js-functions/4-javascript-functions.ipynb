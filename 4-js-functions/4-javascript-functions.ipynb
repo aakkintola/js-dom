{
 "cells": [
  {
   "cell_type": "markdown",
   "id": "2bd9bfbf-1c15-4924-8d8b-e3aa6d6e2821",
   "metadata": {},
   "source": [
    "# Javascript Functions"
   ]
  },
  {
   "cell_type": "markdown",
   "id": "e9118b5a-5da4-4bcb-8e5f-11b2ff105b33",
   "metadata": {},
   "source": [
    "### Introduction"
   ]
  },
  {
   "cell_type": "markdown",
   "id": "54f57606-3707-48ec-97a0-bc9b0760e166",
   "metadata": {},
   "source": [
    "In this lesson, we'll talk about how we can write functions in Javascript.  Let's get started."
   ]
  },
  {
   "cell_type": "markdown",
   "id": "9d8d048a-aa14-4eae-a7db-3fa1b1bd21fc",
   "metadata": {},
   "source": [
    "### Declaring our Functions"
   ]
  },
  {
   "cell_type": "markdown",
   "id": "02916d68-2e5b-4f39-a6b6-0bc75604a9b8",
   "metadata": {},
   "source": [
    "We define a function in Javascript like so."
   ]
  },
  {
   "cell_type": "markdown",
   "id": "1c21c5d1-1873-4925-8900-f304494529fe",
   "metadata": {},
   "source": [
    "```js\n",
    "function greeting(){\n",
    "    return 'hello world'\n",
    "}\n",
    "```"
   ]
  },
  {
   "cell_type": "markdown",
   "id": "aa119e09-9c1d-492c-a2c6-b8f6a24e2af6",
   "metadata": {},
   "source": [
    "A function in Javacript is declared with the `function` keyword, followed by the function name.  Then the body of the function is contained within the `{ }` brackets.  \n",
    "\n",
    "To call the function, copy and paste the above code into the console, or click on the `src/index.html` file, which already has the Javacript written in there."
   ]
  },
  {
   "cell_type": "markdown",
   "id": "68116ac3-1e64-4308-9631-797daa690b4c",
   "metadata": {},
   "source": [
    "<img src=\"./chars-greeting.png\" width=\"80%\">"
   ]
  },
  {
   "cell_type": "markdown",
   "id": "834a87ae-4cdc-40c1-8684-90c0c5b3416a",
   "metadata": {},
   "source": [
    "* Now practice writing your own function.  Write a function called `signoff` that outputs the string `'goodbye everyone'`."
   ]
  },
  {
   "cell_type": "markdown",
   "id": "4aae3bad-2f04-41fb-8e08-eefb37c2afac",
   "metadata": {},
   "source": [
    "From there, we can add an argument to a function like so."
   ]
  },
  {
   "cell_type": "markdown",
   "id": "43d50e8c-273d-43a2-91e6-e1abdd5a17d0",
   "metadata": {},
   "source": [
    "```js\n",
    "function greeting(name){\n",
    "    return `hello ${name}` \n",
    "}\n",
    "```"
   ]
  },
  {
   "cell_type": "markdown",
   "id": "c05406ad-04f8-4c86-9492-2f3601cdabf9",
   "metadata": {},
   "source": [
    "> Notice that to perform string interpolation in Javascript, we switch from using quotation marks to backticks, and then we indicate the code we would like to be interpolated with `${}`."
   ]
  },
  {
   "cell_type": "markdown",
   "id": "f32b230b-dc4e-402f-90f5-3fc98a66c535",
   "metadata": {},
   "source": [
    "Try implementing this with the signoff function so that it says `goodbye` followed by a specified name."
   ]
  },
  {
   "cell_type": "markdown",
   "id": "a88fe077-e126-40cb-b4e3-fea9861d0150",
   "metadata": {},
   "source": [
    "### Callback Functions"
   ]
  },
  {
   "cell_type": "markdown",
   "id": "1be63768-f049-4391-9fc2-603e2b383bc9",
   "metadata": {},
   "source": [
    "In Javascript, functions are also used to hold blocks of code.  For example, this is how we can loop through a list of items in javascript."
   ]
  },
  {
   "cell_type": "markdown",
   "id": "d7ce1ce7-4408-4f01-b240-66acad2a7c67",
   "metadata": {},
   "source": [
    "```js\n",
    "let presidents = ['washington', 'adams', 'jefferson']\n",
    "\n",
    "presidents.forEach(function (president) { \n",
    "    console.log(`Here is ${president}`)\n",
    "                                        })\n",
    "```\n"
   ]
  },
  {
   "cell_type": "markdown",
   "id": "1641fd11-ac07-4637-827e-3933b55678e4",
   "metadata": {},
   "source": [
    "<img src=\"./outputted-presidents.png\" width=\"100%\">"
   ]
  },
  {
   "cell_type": "markdown",
   "id": "dc731d85-986f-4209-8cc0-bef06afc3335",
   "metadata": {},
   "source": [
    "So in the code above, we iterate through each of the presidents, and we define a block variable as `president` and the operation we wish to perform on the variable inside of the function.  Notice that we do not have a *name* to our function above -- it's simply `function (president)`.  Functions that do not have a name are called anonymous functions."
   ]
  },
  {
   "cell_type": "markdown",
   "id": "97334238-01aa-438f-a41e-cb26383a4274",
   "metadata": {},
   "source": [
    "### The Map Function"
   ]
  },
  {
   "cell_type": "markdown",
   "id": "e561a079-7d6f-4e77-8e4a-cdb80e12c77f",
   "metadata": {},
   "source": [
    "Notice that with the forEach function in Javacript, we can *perform an operation* on each element on the list, but there is not overall return value from the forEach function.\n",
    "\n",
    "For example, above we are printing out `here is washington`, but we are not storing that result anywhere.\n",
    "\n",
    "If we would like to instead create a new list of elements we can do so with the map function like so:"
   ]
  },
  {
   "cell_type": "markdown",
   "id": "1c7cee98-44e0-4509-8186-6b8889008a09",
   "metadata": {},
   "source": [
    "```js\n",
    "let presidents = ['washington', 'adams', 'jefferson']\n",
    "presidents.map( function (president) { `here is the ${president}` })\n",
    "```"
   ]
  },
  {
   "cell_type": "markdown",
   "id": "7f1e162c-a826-41fe-8e41-2b40b3e8cdfc",
   "metadata": {},
   "source": [
    "If you try the above code in the browser, you'll see that it does not produce exactly what we wanted."
   ]
  },
  {
   "cell_type": "markdown",
   "id": "7f583cb8-2728-4bf8-97f1-c975ebc97dc6",
   "metadata": {},
   "source": [
    "<img src=\"./broken-map.png\" width=\"90%\">"
   ]
  },
  {
   "cell_type": "markdown",
   "id": "1e796cbb-c32c-4a2e-9da4-74e1ade3f250",
   "metadata": {},
   "source": [
    "We can see that we do have an element for each president in our original array.  But unfortunately it each value in the array is `undefined`.  The problem is that we forgot to **return a value** from our anonymous function.  So let's add in the word return."
   ]
  },
  {
   "cell_type": "markdown",
   "id": "ff927f3a-1b86-4611-a025-545050f3ce84",
   "metadata": {},
   "source": [
    "```js\n",
    "presidents.map( function (president) { return `here is the ${president}` })\n",
    "```"
   ]
  },
  {
   "cell_type": "markdown",
   "id": "a159e98a-cfbb-4244-b101-a03ba7316fa5",
   "metadata": {},
   "source": [
    "<img src=\"./return-val.png\" width=\"80%\">"
   ]
  },
  {
   "cell_type": "markdown",
   "id": "cb5218ea-9ff6-42e3-95c6-cb04a5f6e2d6",
   "metadata": {},
   "source": [
    "Ok, all better."
   ]
  },
  {
   "cell_type": "markdown",
   "id": "51ae8e40-9bc1-4341-8fe8-b807458689e9",
   "metadata": {},
   "source": [
    "### Shortening the Callback Function"
   ]
  },
  {
   "cell_type": "markdown",
   "id": "72b0c8e2-fc61-48e5-b435-f0fd02d315ca",
   "metadata": {},
   "source": [
    "Because it can be wordy to write so many characters just for an anonymous function, we can shorten the anonymous function tosomething like the following:"
   ]
  },
  {
   "cell_type": "markdown",
   "id": "ceab4cba-7a70-46d4-8d56-fea4ca8c2c26",
   "metadata": {},
   "source": [
    "```js\n",
    "let presidents = ['washington', 'adams', 'jefferson']\n",
    "\n",
    "presidents.map(  (president) => { return `here is the ${president}` })\n",
    "```"
   ]
  },
  {
   "cell_type": "markdown",
   "id": "76630561-7820-4e87-9ff5-029029beba71",
   "metadata": {},
   "source": [
    "So this time, we removed the `function` keyword and added in the `=>` before the body of the function."
   ]
  },
  {
   "cell_type": "markdown",
   "id": "f03f0c9b-d279-49ad-80ac-b2b2d22adc78",
   "metadata": {},
   "source": [
    "It turns out that we can shorten our anonymous function to be even shorter, by removing the squiggly brackets and the return statement altogether:"
   ]
  },
  {
   "cell_type": "markdown",
   "id": "141bd27c-99a6-42e7-a015-9c68dfd5759f",
   "metadata": {},
   "source": [
    "```js\n",
    "let presidents = ['washington', 'adams', 'jefferson']\n",
    "presidents.map( (president) => `here is the ${president}` ) \n",
    "```"
   ]
  },
  {
   "cell_type": "markdown",
   "id": "db007787-79ae-4ff6-81cb-649ed9eeb9d1",
   "metadata": {},
   "source": [
    "<img src=\"./pres-map.png\" width=\"80%\">"
   ]
  },
  {
   "cell_type": "markdown",
   "id": "7add4b3a-32a9-4352-8d96-6b6353d8e65b",
   "metadata": {},
   "source": [
    "### Summary"
   ]
  },
  {
   "cell_type": "markdown",
   "id": "1cee0d2c-8b37-46c4-840a-3b2924ab331b",
   "metadata": {},
   "source": [
    "In this lesson, we saw how we can work with functions in Javascript.  We did so by first declaring a named function, like so:"
   ]
  },
  {
   "cell_type": "markdown",
   "id": "adff045a-a2e2-4d9e-af59-ac4535cc795d",
   "metadata": {},
   "source": [
    "```js\n",
    "function hello(){\n",
    "    return 'hello world'\n",
    "}\n",
    "```"
   ]
  },
  {
   "cell_type": "markdown",
   "id": "96cefdda-7674-4cfb-b6d7-c4a9cc25e99c",
   "metadata": {},
   "source": [
    "So to declare a function in Javascript, we begin with the keyword `function` then the function name, and then move to the body of the function with the brackets.  Finally, we end the function with the keyword `return`.\n",
    "\n",
    "Then we saw how we use anonymous functions as our blocks in Javascript.  So to iterate through a list of elements, we can do so with like so: \n",
    "```js\n",
    "presidents.forEach(function (president) { \n",
    "    console.log(`Here is ${president}`)\n",
    "                                        })\n",
    "```\n",
    "\n",
    "While the `forEach` function performs an operation on each element, it does not *return* a value itself.  For that, we use the map function which always returns a list.\n",
    "```js\n",
    "presidents.map(function (president) {  \n",
    "    return `Here is ${president}` })\n",
    "```"
   ]
  },
  {
   "cell_type": "markdown",
   "id": "170092ae-fc73-4704-a3da-636623658d8e",
   "metadata": {},
   "source": [
    "We must be sure to *return* from our anonymous function with `map`.  Finally, we can shorten our anonymous function like so:"
   ]
  },
  {
   "cell_type": "markdown",
   "id": "15448223-805d-4d96-93cb-80721620cc2c",
   "metadata": {},
   "source": [
    "```js\n",
    "presidents.map((president) => { return `here is the ${president}` })\n",
    "```"
   ]
  },
  {
   "cell_type": "markdown",
   "id": "5c9816fc-e5ab-4812-b2de-04a87020eded",
   "metadata": {},
   "source": [
    "Or even further:"
   ]
  },
  {
   "cell_type": "markdown",
   "id": "5bbdd524-cf5f-4786-9274-635e64062efb",
   "metadata": {},
   "source": [
    "```js\n",
    "presidents.map((president) =>  `here is the ${president}`)\n",
    "```\n",
    "> Where we remove the brackets and do not need the `return` keyword. "
   ]
  }
 ],
 "metadata": {
  "kernelspec": {
   "display_name": "Python 3 (ipykernel)",
   "language": "python",
   "name": "python3"
  },
  "language_info": {
   "codemirror_mode": {
    "name": "ipython",
    "version": 3
   },
   "file_extension": ".py",
   "mimetype": "text/x-python",
   "name": "python",
   "nbconvert_exporter": "python",
   "pygments_lexer": "ipython3",
   "version": "3.9.7"
  }
 },
 "nbformat": 4,
 "nbformat_minor": 5
}
