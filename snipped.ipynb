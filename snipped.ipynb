{
 "cells": [
  {
   "cell_type": "code",
   "execution_count": null,
   "id": "f2beb0ac-181b-42f6-8ced-28c17cf58c4d",
   "metadata": {},
   "outputs": [],
   "source": []
  },
  {
   "cell_type": "markdown",
   "id": "caf7124b-d5d2-4ff9-8377-42eefbb52aea",
   "metadata": {},
   "source": [
    "```md\n",
    "jQuery( document ).on('turbolinks:load', function() {\n",
    "  $('ol a').on('click', function(){\n",
    "    let lesson = $(this);\n",
    "    mixpanel.track('clicked ' + lesson.text());\n",
    "\n",
    "  })\n",
    "})\n",
    "```"
   ]
  },
  {
   "cell_type": "code",
   "execution_count": null,
   "id": "dc0bf873-c114-4d60-8e6b-466662f5063e",
   "metadata": {},
   "outputs": [],
   "source": []
  }
 ],
 "metadata": {
  "kernelspec": {
   "display_name": "Python 3 (ipykernel)",
   "language": "python",
   "name": "python3"
  },
  "language_info": {
   "codemirror_mode": {
    "name": "ipython",
    "version": 3
   },
   "file_extension": ".py",
   "mimetype": "text/x-python",
   "name": "python",
   "nbconvert_exporter": "python",
   "pygments_lexer": "ipython3",
   "version": "3.9.7"
  }
 },
 "nbformat": 4,
 "nbformat_minor": 5
}
