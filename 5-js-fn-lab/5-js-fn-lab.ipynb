{
 "cells": [
  {
   "cell_type": "markdown",
   "id": "2bd9bfbf-1c15-4924-8d8b-e3aa6d6e2821",
   "metadata": {},
   "source": [
    "# Javascript Functions"
   ]
  },
  {
   "cell_type": "markdown",
   "id": "e9118b5a-5da4-4bcb-8e5f-11b2ff105b33",
   "metadata": {},
   "source": [
    "### Introduction"
   ]
  },
  {
   "cell_type": "markdown",
   "id": "54f57606-3707-48ec-97a0-bc9b0760e166",
   "metadata": {},
   "source": [
    "In this lesson, we'll work with writing functions in Javascript.  You can work with the companion code in the [following repository](https://github.com/jigsawlabs-student/src)."
   ]
  },
  {
   "cell_type": "markdown",
   "id": "9d8d048a-aa14-4eae-a7db-3fa1b1bd21fc",
   "metadata": {},
   "source": [
    "### Declaring our Functions"
   ]
  },
  {
   "cell_type": "markdown",
   "id": "dc07f498-be32-4a84-95ae-8db98f565d23",
   "metadata": {},
   "source": [
    "* Begin by writing a function called `triple`, which takes in a number and returns three times that number.\n",
    "> Try the code in the browser.\n",
    "\n",
    "* Next write a function called `good_morning` which takes a name and outputs the string `'good morning '` followed by the name."
   ]
  },
  {
   "cell_type": "markdown",
   "id": "b3d945f5-603d-478f-9a1b-51895649ee99",
   "metadata": {},
   "source": [
    "#### If else statements\n",
    "\n",
    "We can write an if else statement in Javascript like so:\n",
    "    \n",
    "```js\n",
    "function tooSmall(num){\n",
    "    if (num < 5){\n",
    "        return `${num} is too small`\n",
    "    }\n",
    "    else {\n",
    "        return `${num} is fine`\n",
    "    }\n",
    "}\n",
    "```"
   ]
  },
  {
   "cell_type": "markdown",
   "id": "b0b254a1-f044-4b1c-9128-d39e543662b5",
   "metadata": {},
   "source": [
    "> So notice that with the `if else` statement, we place the comparator in parentheses, and we indicate each block with the squiggly brackets."
   ]
  },
  {
   "cell_type": "markdown",
   "id": "14e76958-af6f-4f10-bb83-30747eed2f92",
   "metadata": {},
   "source": [
    "Try using the function in the browser."
   ]
  },
  {
   "cell_type": "markdown",
   "id": "c6d06824-dbb8-4e7a-a5ef-edef2d2933e5",
   "metadata": {},
   "source": [
    "Ok, so now try writing your own function with an if else statement.  Write a function called `early_or_late(name)` that looks at a name and returns that the name is a `late name` if the first letter is after `l`, and otherwise returns that the name is an early name. "
   ]
  },
  {
   "cell_type": "markdown",
   "id": "e05a6689-ce12-4481-bd4c-e0e4313cd827",
   "metadata": {},
   "source": [
    "```js\n",
    "earlyOrLate('sam')\n",
    "// 'sam is late'\n",
    "\n",
    "earlyOrLate('fred')\n",
    "// 'fred is early'\n",
    "```"
   ]
  },
  {
   "cell_type": "markdown",
   "id": "f2107bfe-84b5-4a76-993c-512c4e4d98aa",
   "metadata": {},
   "source": [
    "### Using Anonymous Functions"
   ]
  },
  {
   "cell_type": "markdown",
   "id": "baccfb4e-e68f-403d-be54-beff1f00181f",
   "metadata": {},
   "source": [
    "Next, let's move onto using anonymous functions.  Let's begin by using the `forEach` function.  As we know the `forEach` function will iterate through an array of elements, but it will not produce a return value."
   ]
  },
  {
   "cell_type": "markdown",
   "id": "ee3a5bdf-ef42-4ffe-9d50-6b90783a8875",
   "metadata": {},
   "source": [
    "Declare the following list of musicians.\n",
    "\n",
    "```js\n",
    "let musicians = ['prince', 'kanye', 'taylor swift']\n",
    "```\n",
    "\n",
    "Then use `forEach` to log to the console, musician `is talented` -- like so."
   ]
  },
  {
   "cell_type": "markdown",
   "id": "ca4f4e1a-0700-4fff-8e8a-155e01aa495c",
   "metadata": {},
   "source": [
    "<img src=\"./for-each-mus.png\" width=\"70%\">"
   ]
  },
  {
   "cell_type": "markdown",
   "id": "9178774a-f5c9-4046-aa7d-3f69d1599561",
   "metadata": {},
   "source": [
    "Then update the code so that when it gets to `kanye` it says, `kanye is talented, but a kind of dramatic.`"
   ]
  },
  {
   "cell_type": "markdown",
   "id": "2915461e-21fe-4b7f-9d5c-dda4c6fa8331",
   "metadata": {},
   "source": [
    "<img src=\"./drama.png\" width=\"70%\">"
   ]
  },
  {
   "cell_type": "markdown",
   "id": "d916e4a1-bc33-417f-ba38-4041e7e0a1dc",
   "metadata": {},
   "source": [
    "Now let's use anonymous functions with the map clause.  Write an function called `doubles` that will take in a list of numbers, and return each number multiplied by two."
   ]
  },
  {
   "cell_type": "markdown",
   "id": "ab728028-9925-41c0-b1d5-1aa80d415446",
   "metadata": {},
   "source": [
    "```js\n",
    "let nums = [3, 4, 5]\n",
    "doubles(nums) // [6, 8, 10]\n",
    "```"
   ]
  },
  {
   "cell_type": "markdown",
   "id": "bbbda0df-20bf-4b5f-a012-a1fef45d5271",
   "metadata": {},
   "source": [
    "* Try writing the anonymous function without squiggly brackets and a `return` keyword, if you have not already."
   ]
  },
  {
   "cell_type": "markdown",
   "id": "a6411b08-ca0e-45b6-8d48-a78158dec77d",
   "metadata": {},
   "source": [
    "### Elements from the Browser"
   ]
  },
  {
   "cell_type": "markdown",
   "id": "5b6ae7e9-e8d3-41a2-9909-f0e903a23f0a",
   "metadata": {},
   "source": [
    "Now use Javascript to select each  list element that contains simpsons characters and assign the result to the variable `simpsons`."
   ]
  },
  {
   "cell_type": "markdown",
   "id": "4ce6bbcf-f56b-4f76-ade4-117f522f1c1c",
   "metadata": {},
   "source": [
    "> <img src=\"./simpsons-list.png\" width=\"80%\">"
   ]
  },
  {
   "cell_type": "markdown",
   "id": "09e934cd-4a90-414c-bdfc-954fa2500037",
   "metadata": {},
   "source": [
    "Now we would like to loop through this list of li tags, but unfortunately it is not a list -- it's a nodelist.  So let's convert our `NodeList` to a list with the function:\n",
    "\n",
    "```js\n",
    "let simpsons_els = Array.from(simpsons)\n",
    "```\n",
    "\n",
    "or \n",
    "\n",
    "```js\n",
    "let simpsons_els = Array.prototype.slice.call(simpsons)\n",
    "```"
   ]
  },
  {
   "cell_type": "markdown",
   "id": "e4fd6646-5336-4751-954f-7a2f66d91265",
   "metadata": {},
   "source": [
    "After we have converted our nodelist to a list, we can then use our list methods like `map` or `forEach`.  So let's use `map` to produce a list that has just the text of each element.  Assign the result to the variable `simpson_names`."
   ]
  },
  {
   "cell_type": "markdown",
   "id": "45f91450-58c6-440b-aec3-55dc9191d78b",
   "metadata": {},
   "source": [
    "Finally, write a function called `flintstone_names`.  The function should grab the flintstone list elements from the page, and return a list of each of names in the list elements."
   ]
  },
  {
   "cell_type": "markdown",
   "id": "2e748312-207e-45f9-bd9d-6b8235cfa855",
   "metadata": {},
   "source": [
    "### Summary"
   ]
  },
  {
   "cell_type": "markdown",
   "id": "130546a2-a805-4003-9cea-c16cf24d92f7",
   "metadata": {},
   "source": [
    "In this lesson, we saw how we can write functions, and practiced using anonymous functions.  We use anonymous functions to perform a procedure inside of another function.  \n",
    "\n",
    "For example, with for each we use an anonymous function to specify what we action we are performing on each element.\n",
    "\n",
    "```js\n",
    "simpsons.map(function(simpson){\n",
    "    return `${simpson} is here.`\n",
    "})\n",
    "```\n",
    "\n",
    "And we saw that we can use a shorthand when writing anonymous functions:\n",
    "\n",
    "```js\n",
    "simpsons.map((simpson) => `${simpson} is here.`)\n",
    "```"
   ]
  },
  {
   "cell_type": "markdown",
   "id": "5d0900dd-dcaa-433c-b63f-318cc1c176b5",
   "metadata": {},
   "source": [
    "We also saw how to write `if else` statements in Javascript, like so."
   ]
  },
  {
   "cell_type": "markdown",
   "id": "74424d37-df15-4074-aadc-798b2535159a",
   "metadata": {},
   "source": [
    "```js\n",
    "function tooSmall(num){\n",
    "    if (num < 5){\n",
    "        return `${num} is too small`\n",
    "    }\n",
    "    else {\n",
    "        return `${num} is fine`\n",
    "    }\n",
    "}\n",
    "```"
   ]
  }
 ],
 "metadata": {
  "kernelspec": {
   "display_name": "Python 3 (ipykernel)",
   "language": "python",
   "name": "python3"
  },
  "language_info": {
   "codemirror_mode": {
    "name": "ipython",
    "version": 3
   },
   "file_extension": ".py",
   "mimetype": "text/x-python",
   "name": "python",
   "nbconvert_exporter": "python",
   "pygments_lexer": "ipython3",
   "version": "3.9.7"
  }
 },
 "nbformat": 4,
 "nbformat_minor": 5
}
