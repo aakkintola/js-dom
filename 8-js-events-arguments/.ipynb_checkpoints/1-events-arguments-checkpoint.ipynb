{
 "cells": [
  {
   "cell_type": "markdown",
   "id": "61bc6c62-36ae-4a53-b40d-89538956a212",
   "metadata": {},
   "source": [
    "# Event Arguments"
   ]
  },
  {
   "cell_type": "markdown",
   "id": "fde36780-5455-49a1-958d-44b33a1f69dd",
   "metadata": {},
   "source": [
    "### Introduction"
   ]
  },
  {
   "cell_type": "markdown",
   "id": "4d327161-0e70-46ff-83a0-987bb3a92a39",
   "metadata": {},
   "source": [
    "In the last lesson, we saw that we can call functions when certain events are triggered.  In the corresponding lab, we practiced using a loop to attaching event listeners to multiple different events.\n",
    "\n",
    "In this lesson, we'll see how we can use the event argument, to learn more information about the event, and the specific element that was a *target* of the event.  Let's get started."
   ]
  },
  {
   "cell_type": "markdown",
   "id": "ae45291f-07bb-4412-a347-76778f4871ad",
   "metadata": {},
   "source": [
    "### Listening to Multiple Events"
   ]
  },
  {
   "cell_type": "markdown",
   "id": "3c50da56-8517-4315-a89a-2b67d6b79bc0",
   "metadata": {},
   "source": [
    "To begin, let's see how we can write Javascript to listen to click events on multiple elements.  We can start by selecting all of the simpson `li` elements, and then attaching an event listener to each."
   ]
  },
  {
   "cell_type": "markdown",
   "id": "7cdf6c6d-d10e-41b7-b422-87733fd3ab78",
   "metadata": {},
   "source": [
    "If you look at the `index.js` file, you can see that we accomplished this with the following:"
   ]
  },
  {
   "cell_type": "markdown",
   "id": "0e11db87-1f03-4d74-bab4-b889f74e5c11",
   "metadata": {},
   "source": [
    "```js\n",
    "let simpsonEls = Array.from(document.querySelectorAll(\".simpsons li\"));\n",
    "\n",
    "simpsonEls.forEach(function(element){\n",
    "    element.addEventListener('click', logEvent)\n",
    "})\n",
    "\n",
    "function logEvent(){\n",
    "    console.log('simpson was clicked')\n",
    "}\n",
    "```"
   ]
  },
  {
   "cell_type": "markdown",
   "id": "a14ddc2f-41e6-4dd9-a0b9-d69677be6874",
   "metadata": {},
   "source": [
    "### Identifying each element"
   ]
  },
  {
   "cell_type": "markdown",
   "id": "89f93c89-8a17-4f35-9f51-d6503c763f9e",
   "metadata": {},
   "source": [
    "Now let's say that we want to log *which* simpson was clicked on in the console.  It turns out that if we add an argument to the callback function `logevent`, we can discover which element was the *target* of the event. "
   ]
  },
  {
   "cell_type": "markdown",
   "id": "2214011c-c0e8-4d2f-aa33-f510620b536f",
   "metadata": {},
   "source": [
    "Let's add an `event` argument to our callback function, and then add a debugger to take a look at it."
   ]
  },
  {
   "cell_type": "markdown",
   "id": "9143f2a8-c17e-4aef-a064-b3a93338fdc3",
   "metadata": {},
   "source": [
    "```js\n",
    "\n",
    "function logEvent(event){\n",
    "    debugger\n",
    "    console.log('simpson was clicked')\n",
    "}\n",
    "```"
   ]
  },
  {
   "cell_type": "markdown",
   "id": "98daa7a4-f9c5-4f87-b0f6-5cddef22535a",
   "metadata": {},
   "source": [
    "Then if we click on one of the simpson list elements, we will hit our debugger and see the following."
   ]
  },
  {
   "cell_type": "markdown",
   "id": "8b550685-f7fa-41b7-99be-e60e58ea1a25",
   "metadata": {},
   "source": [
    "<img src=\"./event-target-element.png\" width=\"80%\">"
   ]
  },
  {
   "cell_type": "markdown",
   "id": "a1a539e0-d0b2-4dfd-96ef-354f98605bcd",
   "metadata": {},
   "source": [
    "So we can see that when we clicked on a list element, Javascript not only called our callback function, but also passed through an event object.  If you look at the console in the image above, you can see that with the event object, we can also discover the target of the event, which is the specific li that was clicked.  \n",
    "\n",
    "> The *target* of the event, is the element that was clicked on."
   ]
  },
  {
   "cell_type": "markdown",
   "id": "5fae5da2-05f5-4c34-b9d4-a50de6bc6c15",
   "metadata": {},
   "source": [
    "And then if we click look at the innerText of the target, it displays the specific element that was clicked."
   ]
  },
  {
   "cell_type": "markdown",
   "id": "eaabbae9-740c-4d6d-b843-acf31c89811e",
   "metadata": {},
   "source": [
    "<img src=\"./bart-clicked.png\" width=\"60%\">"
   ]
  },
  {
   "cell_type": "markdown",
   "id": "244fdc44-324c-4986-b9a5-47e7847e2381",
   "metadata": {},
   "source": [
    "Ok, so now let's update the callback function so that it logs the character who was clicked on."
   ]
  },
  {
   "cell_type": "markdown",
   "id": "144147c5-585d-479a-8fbe-ac30d5826e98",
   "metadata": {},
   "source": [
    "```js\n",
    "function logEvent(event){\n",
    "    console.log(`${event.target.innerText} was clicked`)\n",
    "}\n",
    "```"
   ]
  },
  {
   "cell_type": "markdown",
   "id": "807635e1-d455-4531-b236-7678556a5b72",
   "metadata": {},
   "source": [
    "And this time if we click on the different elements, we can see that we can identify the specific element that was clicked on."
   ]
  },
  {
   "cell_type": "markdown",
   "id": "07d9ea16-0c49-44f9-97f2-078e0614be81",
   "metadata": {},
   "source": [
    "<img src=\"./updated-event.png\" width=\"50%\">"
   ]
  },
  {
   "cell_type": "markdown",
   "id": "38172c3b-4b5d-49ef-a1f5-3054e67310ed",
   "metadata": {},
   "source": [
    "So now let's see all of our code."
   ]
  },
  {
   "cell_type": "markdown",
   "id": "abb60a15-eaf5-4ae9-b19b-bc2dabfb7caa",
   "metadata": {},
   "source": [
    "```js\n",
    "let simpsonEls = Array.from(document.querySelectorAll(\".simpsons li\"));\n",
    "\n",
    "simpsonEls.forEach(function(element){\n",
    "    element.addEventListener('click', logEvent)\n",
    "})\n",
    "\n",
    "function logEvent(event){\n",
    "    console.log(`${event.target.innerText} was clicked`)\n",
    "}\n",
    "```"
   ]
  },
  {
   "cell_type": "markdown",
   "id": "2615fd17-0d30-4c69-94e6-6be8e45b0004",
   "metadata": {},
   "source": [
    "So as you can see, we begin by find all of the `simpson li` elements, and then convert our Domlist to a list.  We then iterate through each of the elements, attaching an event listener that calls the `logEvent` function when a click occurs on the li.  When the `logEvent` function is called, Javascript also passes through the `event` object, and from the event object we can identify the specific list element that was clicked."
   ]
  },
  {
   "cell_type": "markdown",
   "id": "c8d084d0-64ac-4511-9f03-06f43f7ce6e7",
   "metadata": {},
   "source": [
    "### Refactoring"
   ]
  },
  {
   "cell_type": "markdown",
   "id": "b5ea489a-0246-4d35-8e94-d490af053e5e",
   "metadata": {},
   "source": [
    "Finally, we can refactor the above code to use our shortened anonymous function syntax."
   ]
  },
  {
   "cell_type": "markdown",
   "id": "b6213e6b-62ef-48a5-97c2-b5161633a756",
   "metadata": {},
   "source": [
    "```js\n",
    "let simpsonEls = Array.from(document.querySelectorAll(\".simpsons li\"));\n",
    "\n",
    "simpsonEls.forEach(function(element){\n",
    "    element.addEventListener('click', (event) =>     console.log(`${event.target.innerText} was clicked`))\n",
    "})\n",
    "```"
   ]
  },
  {
   "cell_type": "markdown",
   "id": "fa96595d-f787-4e98-9fb8-d8571b5836bd",
   "metadata": {},
   "source": [
    "And we can see that our code maintains the same behavior."
   ]
  },
  {
   "cell_type": "markdown",
   "id": "04233b2e-6233-4b93-b9bf-7d5484b1da37",
   "metadata": {},
   "source": [
    "### Summary"
   ]
  },
  {
   "cell_type": "markdown",
   "id": "1fe1858b-09f3-4880-9793-bbec0a06bd11",
   "metadata": {},
   "source": [
    "In this lesson we saw how we can attach an event listener to multiple elements by looping through a list of selected elements.  And then we can still identify the specific element that received the event by using an `event` argument in our callback function.\n",
    "\n",
    "When our callback function is defined with an event argument, when the callback function is executed, Javascript also passes an event object.  And then we can call `event.target` to identify the specific element that was clicked on."
   ]
  }
 ],
 "metadata": {
  "kernelspec": {
   "display_name": "Python 3 (ipykernel)",
   "language": "python",
   "name": "python3"
  },
  "language_info": {
   "codemirror_mode": {
    "name": "ipython",
    "version": 3
   },
   "file_extension": ".py",
   "mimetype": "text/x-python",
   "name": "python",
   "nbconvert_exporter": "python",
   "pygments_lexer": "ipython3",
   "version": "3.9.7"
  }
 },
 "nbformat": 4,
 "nbformat_minor": 5
}
