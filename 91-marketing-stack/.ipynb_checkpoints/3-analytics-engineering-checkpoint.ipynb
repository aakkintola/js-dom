{
 "cells": [
  {
   "cell_type": "markdown",
   "id": "3dc4361d-c1a5-4b1a-9d02-16838de63497",
   "metadata": {},
   "source": [
    "# Analytics Engineering"
   ]
  },
  {
   "cell_type": "markdown",
   "id": "56b73344-cd9f-42c8-a889-c8af59d244fb",
   "metadata": {},
   "source": [
    "### Introduction"
   ]
  },
  {
   "cell_type": "markdown",
   "id": "ba690b9d-792f-4222-82cb-10b5e1284475",
   "metadata": {},
   "source": [
    "### 1. Dashboarding and Internal Analysis"
   ]
  },
  {
   "cell_type": "markdown",
   "id": "95417b43-b8dd-457f-a90b-84afb433b30a",
   "metadata": {},
   "source": [
    "### 2. Integrating Tools"
   ]
  },
  {
   "cell_type": "markdown",
   "id": "57dc82f6-a8f4-4f94-86ab-b9da297c23eb",
   "metadata": {},
   "source": [
    "* CDP \n",
    "    1. Event tracking API\n",
    "    2. Reverse ETL\n",
    "* Customer Enrichment Platform"
   ]
  },
  {
   "cell_type": "markdown",
   "id": "d9f8f6a5-8cc6-4d1b-a328-7ce2fe1329a0",
   "metadata": {},
   "source": [
    "### Resources\n",
    "\n",
    "[Startup Founders Analytics](https://thinkgrowth.org/the-startup-founders-guide-to-analytics-1d2176f20ac1)"
   ]
  },
  {
   "cell_type": "markdown",
   "id": "a5af26b1-6fb7-45b3-a758-b133fc3d302a",
   "metadata": {},
   "source": [
    "[Rittman Analytics - Modern Stack](https://rittmananalytics.com/blog/category/Modern+Analytics+Stack)"
   ]
  }
 ],
 "metadata": {
  "kernelspec": {
   "display_name": "Python 3 (ipykernel)",
   "language": "python",
   "name": "python3"
  },
  "language_info": {
   "codemirror_mode": {
    "name": "ipython",
    "version": 3
   },
   "file_extension": ".py",
   "mimetype": "text/x-python",
   "name": "python",
   "nbconvert_exporter": "python",
   "pygments_lexer": "ipython3",
   "version": "3.9.7"
  }
 },
 "nbformat": 4,
 "nbformat_minor": 5
}
