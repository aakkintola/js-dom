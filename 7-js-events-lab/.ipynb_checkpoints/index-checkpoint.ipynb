{
 "cells": [
  {
   "cell_type": "markdown",
   "id": "4142596d-62e4-4ddf-b254-172a43623b18",
   "metadata": {},
   "source": [
    "# Event Listeners Lab"
   ]
  },
  {
   "cell_type": "markdown",
   "id": "21e68503-8e09-42c2-80ed-205fb28803e2",
   "metadata": {},
   "source": [
    "### Introduction"
   ]
  },
  {
   "cell_type": "markdown",
   "id": "32c54e20-675a-41ca-9bdf-fc034a1b6694",
   "metadata": {},
   "source": [
    "In this lesson, we'll practice adding event listeners to our HTML page."
   ]
  },
  {
   "cell_type": "markdown",
   "id": "066812f7-d491-4881-8ec9-fa41ff3da461",
   "metadata": {},
   "source": [
    "### Getting Started"
   ]
  },
  {
   "cell_type": "markdown",
   "id": "2357bf19-3da8-4d41-9b4e-2f3de5d4c358",
   "metadata": {},
   "source": [
    "Let's begin by creating a new javascript file called `index.js` and then linking that file to the `post-page.html` file.\n",
    "\n",
    "From there, let's get started with the following.  First add two an event listener that logs `mountain picture clicked`, whenever someone clicks on the mountain picture."
   ]
  },
  {
   "cell_type": "markdown",
   "id": "c639dd13-b3b0-4630-9685-bb176196bc69",
   "metadata": {},
   "source": [
    "<img src=\"./picture-clicked.png\" width=\"70%\">"
   ]
  },
  {
   "cell_type": "markdown",
   "id": "5048ee90-39fa-420f-aa3c-72ca92f01628",
   "metadata": {},
   "source": [
    "Next, add an event listener that will log `hovered over` whenever a `mouseenter` event occurs on the blue box that says `Learn Bootstrap 4`."
   ]
  },
  {
   "cell_type": "markdown",
   "id": "16a2d87c-7af1-4fe4-8f61-f51b6d76a3a8",
   "metadata": {},
   "source": [
    "<img src=\"./grad-clicked.png\" width=\"60%\">"
   ]
  },
  {
   "cell_type": "markdown",
   "id": "e98658eb-c9c3-4682-9382-ba90672fa6ef",
   "metadata": {},
   "source": [
    "### Adding multiple event listeners"
   ]
  },
  {
   "cell_type": "markdown",
   "id": "7464754b-9517-46b7-8598-f7af5273bfe9",
   "metadata": {},
   "source": [
    "Now, imagine that we want to record any time that someone clicks on an image.  Write Javascript that first selects all of the images, and then uses the `forEach` loop to attach an event listener to each of the image elements that logs `image clicked` whenever an image is clicked."
   ]
  }
 ],
 "metadata": {
  "kernelspec": {
   "display_name": "Python 3 (ipykernel)",
   "language": "python",
   "name": "python3"
  },
  "language_info": {
   "codemirror_mode": {
    "name": "ipython",
    "version": 3
   },
   "file_extension": ".py",
   "mimetype": "text/x-python",
   "name": "python",
   "nbconvert_exporter": "python",
   "pygments_lexer": "ipython3",
   "version": "3.9.7"
  }
 },
 "nbformat": 4,
 "nbformat_minor": 5
}
