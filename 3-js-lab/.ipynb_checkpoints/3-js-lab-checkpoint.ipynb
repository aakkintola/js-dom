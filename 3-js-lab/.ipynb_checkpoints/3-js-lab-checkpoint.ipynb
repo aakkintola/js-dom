{
 "cells": [
  {
   "cell_type": "markdown",
   "id": "374edaf1-0e8c-4285-a8dc-27572371d9ce",
   "metadata": {},
   "source": [
    "# Debugging Javascript Lab"
   ]
  },
  {
   "cell_type": "markdown",
   "id": "f0d85245-dc4e-4470-9b7d-90835724dbaf",
   "metadata": {},
   "source": [
    "### Introduction"
   ]
  },
  {
   "cell_type": "markdown",
   "id": "10b8f4c3-3142-44d9-a6eb-6cf487ee354e",
   "metadata": {},
   "source": [
    "In this lesson, we'll work through writing Javascript in a script file, and debugging Javascript in the console.  Let's get started."
   ]
  },
  {
   "cell_type": "markdown",
   "id": "4cd6154c-a9e2-421b-8c8a-dfe9a342bd23",
   "metadata": {},
   "source": [
    "### Loading our Script"
   ]
  },
  {
   "cell_type": "markdown",
   "id": "63fa5e35-f619-43c2-8abc-b13cb5912e72",
   "metadata": {},
   "source": [
    "Begin by creating a file called `post-page.js` that connects to the `post-page.html` file."
   ]
  },
  {
   "cell_type": "markdown",
   "id": "b4cfa8e6-8cbd-48e9-a806-dcf8f39de688",
   "metadata": {},
   "source": [
    "Then copy and paste the following lines of code into the `post-page.js` file."
   ]
  },
  {
   "cell_type": "markdown",
   "id": "79b5b750-73a5-40d0-a1e3-406a33e96ac3",
   "metadata": {},
   "source": [
    "```javascript\n",
    "console.log('hello world')\n",
    "let footer = document.querySelectorAll('footer')\n",
    "\n",
    "footer.classList.add('d-none')\n",
    "\n",
    "document.querySelector('bluegradient').classList.add('d-none')\n",
    "```"
   ]
  },
  {
   "cell_type": "markdown",
   "id": "2f9dec45-42ec-4ae0-8b9a-5421f72f2462",
   "metadata": {},
   "source": [
    "### Reading the errors"
   ]
  },
  {
   "cell_type": "markdown",
   "id": "1f86ee74-b9d2-4b40-bb07-c710f097eec6",
   "metadata": {},
   "source": [
    "If you open up the console, you should see the first error message.\n",
    "\n",
    "> If you do not see the error message below, try refreshing the page, or make the js file is properly connected to the `post-page.html`."
   ]
  },
  {
   "cell_type": "markdown",
   "id": "48b23180-73a0-42c1-b7ed-2687c1654297",
   "metadata": {},
   "source": [
    "<img src=\"./first-error.png\" width=\"90%\">"
   ]
  },
  {
   "cell_type": "markdown",
   "id": "eaa27274-f106-45eb-8641-bab2de60b0a7",
   "metadata": {},
   "source": [
    "Click on the line number in the error message, and then place a debugger right before the error occurs and use that to debug."
   ]
  },
  {
   "cell_type": "markdown",
   "id": "edb4f0e9-6693-4e44-b477-e5029716d3c4",
   "metadata": {},
   "source": [
    "You'll know that the code in the Javascript file is working when:"
   ]
  },
  {
   "cell_type": "markdown",
   "id": "e2bdeae3-0745-47b7-9223-509ea72ed056",
   "metadata": {},
   "source": [
    "1. The navbar is no longer displayed "
   ]
  },
  {
   "cell_type": "markdown",
   "id": "9dacca9a-4b80-46cb-bbaf-4ae0908be884",
   "metadata": {},
   "source": [
    "<img src=\"./nav-bar.png\">"
   ]
  },
  {
   "cell_type": "markdown",
   "id": "e9654d46-48d9-4739-a51a-c1ca2c2e6f3a",
   "metadata": {},
   "source": [
    "2. The blue box to the right is no longer displayed"
   ]
  },
  {
   "cell_type": "markdown",
   "id": "3ccf9c66-04e7-48a1-8daa-a2f63f78828e",
   "metadata": {},
   "source": [
    "<img src=\"./remove-grad.png\" width=\"40%\">"
   ]
  },
  {
   "cell_type": "markdown",
   "id": "4967e6a1-cd13-4682-99a9-9dcd4744844f",
   "metadata": {},
   "source": [
    "### Adding Styling"
   ]
  },
  {
   "cell_type": "markdown",
   "id": "168bdf88-6a06-428b-97a0-0e19524ad6e6",
   "metadata": {},
   "source": [
    "Next, let's add some new Javascript to change the look of our website."
   ]
  },
  {
   "cell_type": "markdown",
   "id": "0b28b1bb-9908-4539-ba2b-13abe1bcd21f",
   "metadata": {},
   "source": [
    "* Begin by changing the content under the photo to say `What is Javascript?` instead of `What is MDB?`"
   ]
  },
  {
   "cell_type": "markdown",
   "id": "77d1847c-55b1-497c-b0f4-c3c387bb2c27",
   "metadata": {},
   "source": [
    "<img src=\"./js-what.png\">"
   ]
  },
  {
   "cell_type": "markdown",
   "id": "4b038125-6e87-454a-9c85-603054a1701c",
   "metadata": {},
   "source": [
    "* Next, change the color of the box by adding the css class `blue-gradient`."
   ]
  },
  {
   "cell_type": "markdown",
   "id": "8888af75-0b69-4c1b-866b-66b8d4d69b0f",
   "metadata": {},
   "source": [
    "<img src=\"./blue-grad.png\">"
   ]
  },
  {
   "cell_type": "markdown",
   "id": "747a242b-458d-41cc-b0af-5f1c1428ac10",
   "metadata": {},
   "source": [
    "### Summary"
   ]
  },
  {
   "cell_type": "markdown",
   "id": "ecb71ef0-db72-4db6-a913-7c4b399aabe1",
   "metadata": {},
   "source": [
    "In this lesson we practiced working with a separate Javascript file, as well as debugging Javascript.\n",
    "\n",
    "We did so by reading error messages in the console, and by working with the debugger."
   ]
  }
 ],
 "metadata": {
  "kernelspec": {
   "display_name": "Python 3 (ipykernel)",
   "language": "python",
   "name": "python3"
  },
  "language_info": {
   "codemirror_mode": {
    "name": "ipython",
    "version": 3
   },
   "file_extension": ".py",
   "mimetype": "text/x-python",
   "name": "python",
   "nbconvert_exporter": "python",
   "pygments_lexer": "ipython3",
   "version": "3.9.7"
  }
 },
 "nbformat": 4,
 "nbformat_minor": 5
}
