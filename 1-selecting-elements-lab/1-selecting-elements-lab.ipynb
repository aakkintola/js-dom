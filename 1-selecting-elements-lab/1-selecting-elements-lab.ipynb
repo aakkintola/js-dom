{
 "cells": [
  {
   "cell_type": "markdown",
   "id": "6c8b89da-82ac-4469-9de4-6cdfb3bd03f4",
   "metadata": {},
   "source": [
    "# Selecting Elements Lab"
   ]
  },
  {
   "cell_type": "markdown",
   "id": "afde46f4-16b0-450e-92fe-4ba48a1efe45",
   "metadata": {},
   "source": [
    "### Introduction"
   ]
  },
  {
   "cell_type": "markdown",
   "id": "3e77cbde-f2a5-49f9-bb76-b03a1a510d65",
   "metadata": {},
   "source": [
    "In this lesson, we'll practice selecting elements using Javascript."
   ]
  },
  {
   "cell_type": "markdown",
   "id": "3e177f01-93cb-4ced-a945-9582433f9893",
   "metadata": {},
   "source": [
    "### Selecting Elements through the DOM"
   ]
  },
  {
   "cell_type": "markdown",
   "id": "99076742-9cc1-47b6-b388-0f40350ba4ae",
   "metadata": {},
   "source": [
    "To get started, double click on `post_page.html` which is located in our blog folder (you can download it [here](https://github.com/jigsaw-labs/blog-js-labs). "
   ]
  },
  {
   "cell_type": "markdown",
   "id": "e706164b-796c-440d-95dc-61014b63aeef",
   "metadata": {},
   "source": [
    "<img src=\"./post-page-1.png\" width=\"60%\">"
   ]
  },
  {
   "cell_type": "markdown",
   "id": "312fe8ef-21af-4914-b168-b5954d495e90",
   "metadata": {},
   "source": [
    "### Selecting Elements"
   ]
  },
  {
   "cell_type": "markdown",
   "id": "6da73802-4cac-4ee5-9413-fa6355e28c30",
   "metadata": {},
   "source": [
    "1. Selecting by tags"
   ]
  },
  {
   "cell_type": "markdown",
   "id": "f24ad323-1cba-4b1a-b1f0-27b76cc6670c",
   "metadata": {},
   "source": [
    "* Begin by selecting all of the `h5` tags on the page.  You should see that there are nine tags on the page.\n",
    "\n",
    "> You can check this by assigning the results to a variable called `tags`, and then calling `tags.length`"
   ]
  },
  {
   "cell_type": "markdown",
   "id": "9d066e39-8041-491c-ac26-4ef25b7d695e",
   "metadata": {},
   "source": [
    "* From there, select the images on the page, assign them to a variable called `imgs` and confirm that there are 21 images on the page."
   ]
  },
  {
   "cell_type": "markdown",
   "id": "2eeb21cc-0733-4349-b1ae-44b0a9d37bca",
   "metadata": {},
   "source": [
    "2. Selecting by css attributes"
   ]
  },
  {
   "cell_type": "markdown",
   "id": "80baaf59-78a4-409d-8f69-633d4624c567",
   "metadata": {},
   "source": [
    "Next, let's work on selecting elements that have a specific class."
   ]
  },
  {
   "cell_type": "markdown",
   "id": "50aeb90b-264c-4866-a54c-b303409c6e34",
   "metadata": {},
   "source": [
    "* Select just the links in the navbar, starting from home to the links to the right.  Confirm that seven links are selected."
   ]
  },
  {
   "cell_type": "markdown",
   "id": "60fa82c3-9173-4faa-aff2-457ca5ed324e",
   "metadata": {},
   "source": [
    "> <img src=\"./nav-links.png\" width=\"100%\">"
   ]
  },
  {
   "cell_type": "markdown",
   "id": "85e9c4db-ad8a-4da0-bed5-4d4bf108eb88",
   "metadata": {},
   "source": [
    "> We can do so by using selecting an element by a class.  We can sepecify the class selector by adding a '.' before the class name."
   ]
  },
  {
   "cell_type": "markdown",
   "id": "270e468d-dac7-4b57-9286-3a7356fa42df",
   "metadata": {},
   "source": [
    "* Next select all of the elements with a class of `card`.  Assign the result to the variable `cards` and confirm that there are nine cards."
   ]
  },
  {
   "cell_type": "markdown",
   "id": "aafac201-18b9-4ead-9e1c-e0cb111bb0fc",
   "metadata": {},
   "source": [
    "### Selecting attributes"
   ]
  },
  {
   "cell_type": "markdown",
   "id": "307ab941-4033-4d19-b6b5-46826bdb8e31",
   "metadata": {},
   "source": [
    "* Ok, now select the first card from the list of `cards`.  This should be the center card of the mountains.  Assign the card to the variable `first_card`."
   ]
  },
  {
   "cell_type": "markdown",
   "id": "29b4c3c3-cbb9-45d9-b8a6-5a99b5976273",
   "metadata": {},
   "source": [
    "* From there, retrieve the HTML corresponding to that card."
   ]
  },
  {
   "cell_type": "markdown",
   "id": "608541b5-331f-4664-bba1-2b7656dcad68",
   "metadata": {},
   "source": [
    "* And then retrieve the list of classes of the card.\n",
    "\n",
    "> We should see the following:\n",
    "> * `['fadeIn', 'hide', value: 'fadeIn hide']`"
   ]
  },
  {
   "cell_type": "markdown",
   "id": "813bd594-8704-4e1e-829b-4f2edfd1e8de",
   "metadata": {},
   "source": [
    "From here, we can also manipulate the class list.  For example, bootstrap provides us with a class of `d-none`, which we can use to hide the card.\n",
    "\n",
    "Let's add this to the card by calling `first_card.classList.add('d-none')`.  You should see the card disappear.\n",
    "\n",
    "Then make the card reappear by using the `remove` method on classList.  You can look at the [documentation here](https://developer.mozilla.org/en-US/docs/Web/API/Element/classList), if you have trouble doing so."
   ]
  },
  {
   "cell_type": "markdown",
   "id": "a7d60199-0a89-4404-9f9e-8cd71032cc3b",
   "metadata": {},
   "source": [
    "### Summary"
   ]
  },
  {
   "cell_type": "markdown",
   "id": "ab5ee440-d175-4b8d-ba30-d527ffe989d6",
   "metadata": {},
   "source": [
    "In this lesson, we saw how we can select elements by the tag, and the class attributes.  From then, we saw how we can add and remove classes to a selected element."
   ]
  }
 ],
 "metadata": {
  "kernelspec": {
   "display_name": "Python 3 (ipykernel)",
   "language": "python",
   "name": "python3"
  },
  "language_info": {
   "codemirror_mode": {
    "name": "ipython",
    "version": 3
   },
   "file_extension": ".py",
   "mimetype": "text/x-python",
   "name": "python",
   "nbconvert_exporter": "python",
   "pygments_lexer": "ipython3",
   "version": "3.9.7"
  }
 },
 "nbformat": 4,
 "nbformat_minor": 5
}
