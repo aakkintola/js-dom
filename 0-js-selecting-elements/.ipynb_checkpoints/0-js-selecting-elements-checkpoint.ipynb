{
 "cells": [
  {
   "cell_type": "markdown",
   "id": "6c8b89da-82ac-4469-9de4-6cdfb3bd03f4",
   "metadata": {},
   "source": [
    "# Intro to Javascript"
   ]
  },
  {
   "cell_type": "markdown",
   "id": "afde46f4-16b0-450e-92fe-4ba48a1efe45",
   "metadata": {},
   "source": [
    "### Introduction"
   ]
  },
  {
   "cell_type": "markdown",
   "id": "cb62ccf5-dede-4359-969c-6a5b9cd7ccc6",
   "metadata": {},
   "source": [
    "Now so far, we have seen how we can target HTML elements by using CSS selectors, or by using a web scraping tool like Selenium.  But turns out that we can also target our by using Javascript.\n",
    "\n",
    "In this lesson we'll see how."
   ]
  },
  {
   "cell_type": "markdown",
   "id": "c63cc96f-c8c4-41ef-90c2-72a8e5027c79",
   "metadata": {},
   "source": [
    "### Javascript in the Console"
   ]
  },
  {
   "cell_type": "markdown",
   "id": "63bd9f93-2b63-463c-a559-a1dab336187d",
   "metadata": {},
   "source": [
    "Let's see how we can work with JavaScript by opening our blog homepage. \n",
    "\n",
    "You can download the relevant files by going to the [following repo](https://github.com/jigsaw-labs/blog-js-labs).\n",
    "\n",
    "Then open the files in the finder.  You can view the homepage by opening the finder and then double clicking on the `home-page.html` file."
   ]
  },
  {
   "cell_type": "markdown",
   "id": "65af7e95-e64e-49e2-a959-3c69501a08aa",
   "metadata": {},
   "source": [
    "> <img src=\"./blog-homepage.png\" width=\"60%\">"
   ]
  },
  {
   "cell_type": "markdown",
   "id": "e0a63913-ed95-4ffe-90ab-f55a4ab88d6b",
   "metadata": {},
   "source": [
    "Then from there, we can open up the home page and click on the console tab."
   ]
  },
  {
   "cell_type": "markdown",
   "id": "331e7734-e42d-44bd-a024-e64fba86ac52",
   "metadata": {},
   "source": [
    "> <img src=\"./home-console.png\" width=\"70%\">"
   ]
  },
  {
   "cell_type": "markdown",
   "id": "54fc3684-8a8b-43cc-9647-dc08943d9286",
   "metadata": {},
   "source": [
    "In the console exists a Javascript environment.  So anything that we can write any Javascript code we like inside of that console.\n",
    "\n",
    "For us, let's begin by typing the word `document`."
   ]
  },
  {
   "cell_type": "markdown",
   "id": "d8346d6f-c952-4d6d-aef2-9b4462ff231c",
   "metadata": {},
   "source": [
    "> <img src=\"./dom.png\" width=\"70%\">"
   ]
  },
  {
   "cell_type": "markdown",
   "id": "ed5d7b86-f575-4b46-8d61-930de962cac6",
   "metadata": {},
   "source": [
    "Now if you click on the tab on document, you can see that our HTML is represented there.\n",
    "\n",
    "In fact what we are seeing is called the document object model, and the document object model is what the browser directly display.  What's nice about the document object model (called the DOM), is that we can use Javascript to select, change, and listen to events on the dom."
   ]
  },
  {
   "cell_type": "markdown",
   "id": "3e177f01-93cb-4ced-a945-9582433f9893",
   "metadata": {},
   "source": [
    "### Selecting Elements through the DOM"
   ]
  },
  {
   "cell_type": "markdown",
   "id": "a456aa95-e603-4c04-bc8c-a8eb867f3258",
   "metadata": {},
   "source": [
    "We can select elements on the page using our CSS selectors.  So for example, here's how we can select all of the `a` tags on the page."
   ]
  },
  {
   "cell_type": "markdown",
   "id": "cb2dc5d2-bbec-4f4e-99d7-943419985ab5",
   "metadata": {},
   "source": [
    "> <img src=\"./query-selector-all.png\" width=\"100%\">"
   ]
  },
  {
   "cell_type": "markdown",
   "id": "81df1402-0824-4583-ab3e-c115b466962c",
   "metadata": {},
   "source": [
    "So we used the `querySelectorAll` function and then passed through the tag that we wish to select.  Because we want to select all of the `a` tags, passed through an `'a'`.\n",
    "\n",
    "### Navigating through the list"
   ]
  },
  {
   "cell_type": "markdown",
   "id": "207969b4-3e74-4d22-bb87-c42c6c681da8",
   "metadata": {},
   "source": [
    "The easiest way to target our HTML through Javascript is by opening up the web developer console.  \n",
    "\n",
    "In Google chrome, we can open our web development console by pressing `command+shift+c`.  And from there, we can assign our a tags to a variable."
   ]
  },
  {
   "cell_type": "markdown",
   "id": "d24e3a40-2533-48ce-b961-31ca675732ed",
   "metadata": {},
   "source": [
    "```javascript\n",
    "let a_tags = document.querySelectorAll('a')\n",
    "```"
   ]
  },
  {
   "cell_type": "markdown",
   "id": "80c7cd1d-8cca-42d9-b0e7-800c8abc495f",
   "metadata": {},
   "source": [
    "And then select a specific tag via an index."
   ]
  },
  {
   "cell_type": "markdown",
   "id": "5145047e-5e76-415d-845a-787f76679926",
   "metadata": {},
   "source": [
    "<img src=\"./first-tag.png\" width=\"70%\">"
   ]
  },
  {
   "cell_type": "markdown",
   "id": "66603eb7-820d-41b4-b647-3f16b7f37d69",
   "metadata": {},
   "source": [
    "And notice that if we hover over the selected HTML, that chrome will identify the corresponding element in the browser."
   ]
  },
  {
   "cell_type": "markdown",
   "id": "5b3f62fd-dc93-4d96-a5a7-c07a39d19d98",
   "metadata": {},
   "source": [
    "From there, we can assign the selected tag to a variable using the `let` keyword.\n",
    "\n",
    "And then notice that we can retrieve attributes of that specific HTML using attributes like `innerText` to see the text related ot the HTML element, or calling `outerHTML` to select the related HTML."
   ]
  },
  {
   "cell_type": "markdown",
   "id": "e3b00686-5919-4cfa-b2fe-c4a286290d20",
   "metadata": {},
   "source": [
    "<img src=\"./retrieved-data.png\" width=\"100%\">"
   ]
  },
  {
   "cell_type": "markdown",
   "id": "10f2b632-9a46-467f-b215-4be1494b5e65",
   "metadata": {},
   "source": [
    "We can also get the related classes by calling `first_tag.class_list`."
   ]
  },
  {
   "cell_type": "markdown",
   "id": "03795b5e-d15e-49b9-a883-fa3f565a7ae0",
   "metadata": {},
   "source": [
    "<img src=\"./class-list.png\" width=\"100%\">"
   ]
  },
  {
   "cell_type": "markdown",
   "id": "ddea851e-bdb0-4344-b835-1268913fa82d",
   "metadata": {},
   "source": [
    "### Summary"
   ]
  },
  {
   "cell_type": "markdown",
   "id": "329ecfd5-f6ef-436c-b6b6-63e38c72b200",
   "metadata": {},
   "source": [
    "In this lesson, we saw how we can work with Javascript console in chrome by first pressing `cmd + shift + c`, and then clicking on the `console` tab.\n",
    "\n",
    "From there, we used the document object model (the dom) to select specific elements.  For example, we selected all of the links on the page a call to:\n",
    "\n",
    "```js\n",
    "document.querySelectorAll('a')\n",
    "```\n",
    "\n",
    "This returned a list of nodes, each one representing an a tag.  From there, we selected the first a tag from the list, and explored attributes of that node calling attributes like:\n",
    "\n",
    "* outerHTML\n",
    "* innerText\n",
    "* classList"
   ]
  }
 ],
 "metadata": {
  "kernelspec": {
   "display_name": "Python 3 (ipykernel)",
   "language": "python",
   "name": "python3"
  },
  "language_info": {
   "codemirror_mode": {
    "name": "ipython",
    "version": 3
   },
   "file_extension": ".py",
   "mimetype": "text/x-python",
   "name": "python",
   "nbconvert_exporter": "python",
   "pygments_lexer": "ipython3",
   "version": "3.9.7"
  }
 },
 "nbformat": 4,
 "nbformat_minor": 5
}
