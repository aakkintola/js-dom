{
 "cells": [
  {
   "cell_type": "markdown",
   "id": "91ac5a0c-c78c-4da2-9f8b-3027daca5cac",
   "metadata": {},
   "source": [
    "# Tracking Lab"
   ]
  },
  {
   "cell_type": "markdown",
   "id": "1fd5e092-3887-4dd7-9db4-4f4907b98301",
   "metadata": {},
   "source": [
    "### Introduction"
   ]
  },
  {
   "cell_type": "markdown",
   "id": "b8aa954b-14db-4602-8ff6-7c1e56c3ab31",
   "metadata": {},
   "source": [
    "Now that we saw how to add some initial tracking to our events in our webpage, the next thing to see is how to detect additional click events on the web page."
   ]
  },
  {
   "cell_type": "markdown",
   "id": "8cc5706b-584a-4b16-a315-aed722153c4c",
   "metadata": {},
   "source": [
    "### Updating our Tracking"
   ]
  },
  {
   "cell_type": "markdown",
   "id": "9a9171c6-1903-4c3e-8926-6ce2522a567a",
   "metadata": {},
   "source": [
    "So currently, we track when a user visits a page, and this occurs because of the line in the top of the file that has `mixpanel.track('Sign up');`.\n",
    "\n",
    "With the above line of code, whenever the page is visited, the `track` function is called and the `Sign Up` is declared as an event.\n",
    "\n",
    "We can pass any string as an argument to the `track` event.  \n",
    "\n",
    "* Update the code so that it we'll log the event `homepage visited`\n",
    "\n",
    "### Attaching Events"
   ]
  },
  {
   "cell_type": "markdown",
   "id": "76eb763a-855e-4464-bdeb-30b9e0a7590f",
   "metadata": {},
   "source": [
    "* Now create a file called `mixpanel.js` and attach it to the `index.html` page.  \n",
    "\n",
    "* From there, add code so that when a user clicks `Start Free Tutorial` in the large blue box, mixpanel tracks the event `Clicked Start Free Tutorial`."
   ]
  },
  {
   "cell_type": "markdown",
   "id": "233caada-c71f-4c41-b464-73289f1ee27c",
   "metadata": {},
   "source": [
    "* Now let's work with the four navbar links to the left."
   ]
  },
  {
   "cell_type": "markdown",
   "id": "03739c80-b352-45ee-a3fe-6fb447a35762",
   "metadata": {},
   "source": [
    "> <img src=\"./clicked-link.png\" width=\"60%\">"
   ]
  },
  {
   "cell_type": "markdown",
   "id": "16beff7a-655c-4669-a0f8-8dd3bd4d12c8",
   "metadata": {},
   "source": [
    "* Write code so that when a user clicks on any of the four links, it states adds an event of `clicked link: link-text` -- where the link is the text of the link.  For example, when someone clicks on `About MDB`, the event should be `clicked link: About MDB`.\n",
    "\n",
    "> Write the code so that, you are using a loop to attach the same event behavior to each of the selected links, with only the link-text being different."
   ]
  },
  {
   "cell_type": "markdown",
   "id": "d556bd61-229c-42ec-a80f-e289272f6f4f",
   "metadata": {},
   "source": [
    "* It turns out that Mixpanel allows us to add properties to events.  \n",
    "\n",
    "\n",
    "This allows us to add group our events.  For example, instead of tracking each link click as an unrelated event, we can have them all be `Link click` events, and have a separate property. \n",
    "\n",
    "For example, let's say a user clicks on `About MDB`, we can have code like so:\n",
    "```js\n",
    "mixpanel.track(\n",
    "    \"Clicked Link\",\n",
    "    {\"link\": \"About MDB\"}\n",
    ");\n",
    "```"
   ]
  },
  {
   "cell_type": "markdown",
   "id": "7b4f8f00-028e-4130-a4db-13eb8d9862ca",
   "metadata": {},
   "source": [
    "And if the user clicks on Free Download, the code would look like the following:"
   ]
  },
  {
   "cell_type": "markdown",
   "id": "c1eb36a4-533f-48e1-9c73-8780a921d772",
   "metadata": {},
   "source": [
    "```js\n",
    "mixpanel.track(\n",
    "    \"Clicked Link\",\n",
    "    {\"link\": \"Free Download\"}\n",
    ");\n",
    "```"
   ]
  },
  {
   "cell_type": "markdown",
   "id": "b3fd42f9-eeba-4e46-ad4c-764bf8ce6dea",
   "metadata": {},
   "source": [
    "Update the code, so that the different link clicks are differentiated via properties.  \n",
    "\n",
    "> For more information, look at [Mixpanel's documentation](https://developer.mixpanel.com/docs/javascript-quickstart)."
   ]
  },
  {
   "cell_type": "markdown",
   "id": "16d9618b-21c3-444c-af1f-184bd489f48a",
   "metadata": {},
   "source": [
    "### Bonus"
   ]
  },
  {
   "cell_type": "markdown",
   "id": "0ecfc51c-2c74-4597-98bd-695383863ce0",
   "metadata": {},
   "source": [
    "Add behavior so that when a user clicks on the buttons in the center section, it's tracked by mixpanel.\n",
    "\n",
    "<img src=\"./box-buttons.png\" width=\"80%\">\n",
    "\n",
    "Write code so that we track the events programmatically, selecting the related elements."
   ]
  },
  {
   "cell_type": "markdown",
   "id": "2ede866c-efb0-4583-a218-6fb873de8bbe",
   "metadata": {},
   "source": [
    "Then loop through the selected elements so that when `Free Download` is clicked, the event is Free Download, and when `Start Tutorial` is selected the event `Start Tutorial`.  For each event, there should be a property of `topic` with a value of the title of the card.\n",
    "\n",
    "For example, if Bootstrap Automation is clicked the event should look like the following:\n",
    "\n",
    "```js\n",
    "mixpanel.track(\n",
    "    \"Start Tutorial\",\n",
    "    {\"topic\": \"Bootstrap Automation\"}\n",
    ");\n",
    "```\n",
    "\n",
    "And if MDB with React is clicked, then the event should look like:\n",
    "\n",
    "```js\n",
    "mixpanel.track(\n",
    "    \"Free Download\",\n",
    "    {\"topic\": \"MDB with React\"}\n",
    ");\n",
    "```\n",
    "\n",
    "> **Hint**: To accomplish this, it may be useful to look at the [closest documentation](https://developer.mozilla.org/en-US/docs/Web/API/Element/closest)."
   ]
  }
 ],
 "metadata": {
  "kernelspec": {
   "display_name": "Python 3 (ipykernel)",
   "language": "python",
   "name": "python3"
  },
  "language_info": {
   "codemirror_mode": {
    "name": "ipython",
    "version": 3
   },
   "file_extension": ".py",
   "mimetype": "text/x-python",
   "name": "python",
   "nbconvert_exporter": "python",
   "pygments_lexer": "ipython3",
   "version": "3.9.7"
  }
 },
 "nbformat": 4,
 "nbformat_minor": 5
}
