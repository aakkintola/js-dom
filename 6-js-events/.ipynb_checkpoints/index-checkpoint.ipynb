{
 "cells": [
  {
   "cell_type": "markdown",
   "id": "6af4d54a-a672-4c09-8d16-e7c63a346ec0",
   "metadata": {},
   "source": [
    "# Listening to Events"
   ]
  },
  {
   "cell_type": "markdown",
   "id": "41c0658d-d016-408e-9a0a-87e73cd94a6f",
   "metadata": {},
   "source": [
    "### Introduction"
   ]
  },
  {
   "cell_type": "markdown",
   "id": "437a4923-2753-4752-8658-6e846c99b07b",
   "metadata": {},
   "source": [
    "In this lesson, we'll listen see how we can listen to web events.  \n",
    "\n",
    "Let's get started."
   ]
  },
  {
   "cell_type": "markdown",
   "id": "5f0eb38b-49a3-4523-ab61-e8db2238e576",
   "metadata": {},
   "source": [
    "### Exploring our first event listener"
   ]
  },
  {
   "cell_type": "markdown",
   "id": "adb53abe-f68e-4e09-8c55-a6778faa6588",
   "metadata": {},
   "source": [
    "We've already attached an event listener to the `index.html` file.  You can see this, if you open up the `index.html` page, open up the chrome console, and then click on the `h1` tag that says: `Favorite Cartoons`."
   ]
  },
  {
   "cell_type": "markdown",
   "id": "e4fcd75b-982f-4ee3-815a-e380ac133e92",
   "metadata": {},
   "source": [
    "> <img src=\"./was-clicked.png\" width=\"70%\">"
   ]
  },
  {
   "cell_type": "markdown",
   "id": "a2ad3824-2036-43d9-b29e-a9ec7d05b2a4",
   "metadata": {},
   "source": [
    "Ok, now let's see how something like this works. "
   ]
  },
  {
   "cell_type": "markdown",
   "id": "5756fca6-2ed8-4cae-b724-843947252732",
   "metadata": {},
   "source": [
    "Take a look at the `src/index.js` file.  There you will find some code like the following."
   ]
  },
  {
   "cell_type": "markdown",
   "id": "e55f5b7b-a2c0-4c32-8d83-f8a0952f0231",
   "metadata": {},
   "source": [
    "```js\n",
    "let h1 = document.querySelector(\"h1\");\n",
    "\n",
    "h1.addEventListener(\"click\", logStatement)\n",
    "\n",
    "function logStatement() {\n",
    "    console.log('this was clicked')\n",
    "}\n",
    "```"
   ]
  },
  {
   "cell_type": "markdown",
   "id": "c45c1caa-483f-40ab-9433-720fff671136",
   "metadata": {},
   "source": [
    "So the first step is to select the element we want to attach the event to.  And then on that selected element, we call the `addEventListener` function followed by the event we are listening for -- here `click`.  \n",
    "\n",
    "Finally, we specify the function we wish to call when the even occurs -- the `logStatement` function."
   ]
  },
  {
   "cell_type": "markdown",
   "id": "848948c1-13ce-4786-82b7-f75dccb6d45e",
   "metadata": {},
   "source": [
    "### Take note"
   ]
  },
  {
   "cell_type": "markdown",
   "id": "bcee672d-f569-4e0d-96aa-c010f3e84e62",
   "metadata": {},
   "source": [
    "Before moving on, take another look at the `addEventListener` statement.  Notice that in the second argument, we do not *execute* the log statement -- that is there are no parentheses after `logStatement`.  "
   ]
  },
  {
   "cell_type": "code",
   "execution_count": null,
   "id": "1f71becc-fa19-4175-8015-2c6ba9e17cfd",
   "metadata": {},
   "outputs": [],
   "source": [
    "h1.addEventListener(\"click\", logStatement)"
   ]
  },
  {
   "cell_type": "markdown",
   "id": "d3a9bb1d-089a-4395-9400-b70f9dcb6b2c",
   "metadata": {},
   "source": [
    "If we did place in those parentheses, the `logStatement` would execute immediately.  That's not what we want.  Instead we pass through the `logStatement`, so that *Javascript* can call the function when the click event occurs."
   ]
  },
  {
   "cell_type": "markdown",
   "id": "dd841186-3b67-4ad7-b84c-93231dde6fcc",
   "metadata": {},
   "source": [
    "The `logStatement` is referred to as a **callback function**.  A callback function is a function that is not called immediately, but rather is called when a later event occurs."
   ]
  },
  {
   "cell_type": "markdown",
   "id": "91b98243-6d47-4e99-91a1-ec9c8bd4976e",
   "metadata": {},
   "source": [
    "### An alternative syntax"
   ]
  },
  {
   "cell_type": "markdown",
   "id": "dccbf0e2-d035-43b2-a0ac-b6b3e4011829",
   "metadata": {},
   "source": [
    "In the above code, we defined the callback function as a separate function, and then passed that function into our `addEventListener` function."
   ]
  },
  {
   "cell_type": "markdown",
   "id": "6ad1796c-731a-49cd-9efa-6e18baeed782",
   "metadata": {},
   "source": [
    "```js\n",
    "let h1 = document.querySelector(\"h1\");\n",
    "\n",
    "h1.addEventListener(\"click\", logStatement)\n",
    "\n",
    "function logStatement() {\n",
    "    console.log('this was clicked')\n",
    "}\n",
    "```"
   ]
  },
  {
   "cell_type": "markdown",
   "id": "3b4f5419-11fa-42bc-9671-ac4af7315751",
   "metadata": {},
   "source": [
    "But we can also define the callback function directly in the `addEventListener` function as an anonymous function.  We can do so, like so:"
   ]
  },
  {
   "cell_type": "markdown",
   "id": "fffaf381-590d-4f8b-9d67-991a2659f08d",
   "metadata": {},
   "source": [
    "```js\n",
    "let h1 = document.querySelector(\"h1\");\n",
    "\n",
    "h1.addEventListener(\"click\", () =>    { console.log('we clicked it') })\n",
    "\n",
    "// h1.addEventListener(\"click\", logStatement)\n",
    "\n",
    "// function logStatement() {\n",
    "//     console.log('this was clicked')\n",
    "// }\n",
    "```"
   ]
  },
  {
   "cell_type": "markdown",
   "id": "b7832b6a-cec1-41a9-837a-fa57d8288f95",
   "metadata": {},
   "source": [
    "The syntax above can be a little tricky.  But the key is to identify the anonymous function, which looks like the following:\n",
    "\n",
    "```js\n",
    " () => { console.log('we clicked it') }\n",
    "```"
   ]
  },
  {
   "cell_type": "markdown",
   "id": "f3641f5b-c78b-40e2-9469-dab009a27990",
   "metadata": {},
   "source": [
    "### Summary"
   ]
  },
  {
   "cell_type": "markdown",
   "id": "8c6eb4e2-8e2b-4901-9dd0-e4bf07c1e9e4",
   "metadata": {},
   "source": [
    "In this lesson, we saw how to attach event listeners to different html elements.  We do in three steps.   \n",
    "\n",
    "1. Select the element we want to attach the event to\n",
    "```js\n",
    "let h1 = document.querySelector(\"h1\");\n",
    "```\n",
    "\n",
    "2. Add the event listener\n",
    "```js\n",
    "h1.addEventListener(\"click\", ...)\n",
    "```\n",
    "\n",
    "3. Define what we want to occur when the event occurs\n",
    "\n",
    "```js\n",
    "h1.addEventListener(\"click\", logStatement)\n",
    "\n",
    "function logStatement() {\n",
    "    console.log('this was clicked')\n",
    "}\n",
    "```\n",
    "\n",
    "We described the `logStatement` as our callback function, because it is not called immediately, but rather is called only upon an event being called.  \n",
    "\n",
    "Finally, we saw how we can directly define our callback function as an anonymous function like so:\n",
    "```js\n",
    "h1.addEventListener(\"click\", () => { console.log('it was clicked') })\n",
    "```"
   ]
  }
 ],
 "metadata": {
  "kernelspec": {
   "display_name": "Python 3 (ipykernel)",
   "language": "python",
   "name": "python3"
  },
  "language_info": {
   "codemirror_mode": {
    "name": "ipython",
    "version": 3
   },
   "file_extension": ".py",
   "mimetype": "text/x-python",
   "name": "python",
   "nbconvert_exporter": "python",
   "pygments_lexer": "ipython3",
   "version": "3.9.7"
  }
 },
 "nbformat": 4,
 "nbformat_minor": 5
}
